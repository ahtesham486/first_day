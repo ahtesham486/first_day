{
 "cells": [
  {
   "cell_type": "markdown",
   "metadata": {},
   "source": [
    "# 27 - sep "
   ]
  },
  {
   "cell_type": "markdown",
   "metadata": {},
   "source": [
    "# Built in function "
   ]
  },
  {
   "cell_type": "code",
   "execution_count": 1,
   "metadata": {},
   "outputs": [
    {
     "name": "stdout",
     "output_type": "stream",
     "text": [
      "True\n"
     ]
    }
   ],
   "source": [
    "# isintance()\n",
    "\n",
    "# it checks if the object (first argument) is an instance or subclass of claasinfo class\n",
    "\n",
    "special_nums = [0.577 ,1.618 ,3.14 ,37 ,28 ,6 ,1729 , 2.718]\n",
    "result = isinstance(special_nums , list)\n",
    "print(result)"
   ]
  },
  {
   "cell_type": "code",
   "execution_count": 2,
   "metadata": {},
   "outputs": [
    {
     "ename": "TypeError",
     "evalue": "SpecialNumbers() takes no arguments",
     "output_type": "error",
     "traceback": [
      "\u001b[1;31m---------------------------------------------------------------------------\u001b[0m",
      "\u001b[1;31mTypeError\u001b[0m                                 Traceback (most recent call last)",
      "\u001b[1;32mc:\\Users\\MS\\Desktop\\python basic\\day_2.ipynb Cell 4\u001b[0m line \u001b[0;36m1\n\u001b[0;32m     <a href='vscode-notebook-cell:/c%3A/Users/MS/Desktop/python%20basic/day_2.ipynb#Y122sZmlsZQ%3D%3D?line=12'>13</a>\u001b[0m     \u001b[39mself\u001b[39m\u001b[39m.\u001b[39mgolden_ratio \u001b[39m=\u001b[39m golden_ratio \n\u001b[0;32m     <a href='vscode-notebook-cell:/c%3A/Users/MS/Desktop/python%20basic/day_2.ipynb#Y122sZmlsZQ%3D%3D?line=13'>14</a>\u001b[0m     \u001b[39mself\u001b[39m\u001b[39m.\u001b[39mmsg \u001b[39m=\u001b[39m msg\n\u001b[1;32m---> <a href='vscode-notebook-cell:/c%3A/Users/MS/Desktop/python%20basic/day_2.ipynb#Y122sZmlsZQ%3D%3D?line=15'>16</a>\u001b[0m special_numbers \u001b[39m=\u001b[39m SpecialNumbers(\u001b[39m0.577\u001b[39;49m ,\u001b[39m2.718\u001b[39;49m , \u001b[39m1.618\u001b[39;49m ,\u001b[39m3.14\u001b[39;49m , \u001b[39m\"\u001b[39;49m\u001b[39mthese numbers are very special\u001b[39;49m\u001b[39m\"\u001b[39;49m)\n\u001b[0;32m     <a href='vscode-notebook-cell:/c%3A/Users/MS/Desktop/python%20basic/day_2.ipynb#Y122sZmlsZQ%3D%3D?line=16'>17</a>\u001b[0m nums \u001b[39m=\u001b[39m [\u001b[39m0\u001b[39m ,\u001b[39m1\u001b[39m,\u001b[39m1\u001b[39m,\u001b[39m2\u001b[39m,\u001b[39m2\u001b[39m,\u001b[39m3\u001b[39m ,\u001b[39m8\u001b[39m ,\u001b[39m13\u001b[39m ,\u001b[39m21\u001b[39m ,\u001b[39m34\u001b[39m]\n\u001b[0;32m     <a href='vscode-notebook-cell:/c%3A/Users/MS/Desktop/python%20basic/day_2.ipynb#Y122sZmlsZQ%3D%3D?line=17'>18</a>\u001b[0m \u001b[39mprint\u001b[39m(\u001b[39misinstance\u001b[39m(special_numbers ,SpecialNumbers))\n",
      "\u001b[1;31mTypeError\u001b[0m: SpecialNumbers() takes no arguments"
     ]
    }
   ],
   "source": [
    "class SpecialNumbers:\n",
    "    euler_constant = 0.577\n",
    "    euler_number = 2.718\n",
    "    pi = 3.14\n",
    "    golden_ratio = 1.618\n",
    "    msg = \"these number are special . \"\n",
    "special_numbers = SpecialNumbers()\n",
    "\n",
    "def __init__ (self ,euler_constant ,euler_number ,pi , golden_ratio ,msg  ):\n",
    "    self.euler_constant = euler_constant \n",
    "    self.euler_number = euler_number\n",
    "    self.pi = pi\n",
    "    self.golden_ratio = golden_ratio \n",
    "    self.msg = msg\n",
    "\n",
    "special_numbers = SpecialNumbers(0.577 ,2.718 , 1.618 ,3.14 , \"these numbers are very special\")\n",
    "nums = [0 ,1,1,2,2,3 ,8 ,13 ,21 ,34]\n",
    "print(isinstance(special_numbers , SpecialNumbers))\n",
    "print(isinstance(nums,SpecialNumbers))\n"
   ]
  },
  {
   "cell_type": "code",
   "execution_count": 4,
   "metadata": {},
   "outputs": [
    {
     "name": "stdout",
     "output_type": "stream",
     "text": [
      "euler constant is  0.577\n",
      " the golden ratio is  1.618\n",
      "euler number is  3.14\n",
      "pi number is  37\n",
      "28 is a prefect  number\n",
      "6 is a prefect  number\n",
      "1729 is a prefect  number\n",
      "2.718 is a prefect  number\n"
     ]
    }
   ],
   "source": [
    "# iter() \n",
    "# it return an iterator object \n",
    "\n",
    "special_nums = [0.577 ,1.618 ,3.14 ,37 ,28 ,6 ,1729 , 2.718]\n",
    "special_nums_iter = iter(special_nums)\n",
    "print(\"euler constant is \" , next(special_nums_iter))\n",
    "print(\" the golden ratio is \" , next(special_nums_iter))\n",
    "print(\"euler number is \", next(special_nums_iter))\n",
    "print(\"pi number is \" , next(special_nums_iter))\n",
    "print(next(special_nums_iter) ,\"is a prefect  number\")\n",
    "print(next(special_nums_iter) ,\"is a prefect  number\")\n",
    "print(next(special_nums_iter) ,\"is a prefect  number\")\n",
    "print(next(special_nums_iter) ,\"is a prefect  number\")\n",
    " # this value is wrong due my own mistake the mistake is that the value list in not order "
   ]
  },
  {
   "cell_type": "code",
   "execution_count": 6,
   "metadata": {},
   "outputs": [
    {
     "name": "stdout",
     "output_type": "stream",
     "text": [
      "<class 'object'>\n",
      "['__class__', '__delattr__', '__dir__', '__doc__', '__eq__', '__format__', '__ge__', '__getattribute__', '__getstate__', '__gt__', '__hash__', '__init__', '__init_subclass__', '__le__', '__lt__', '__ne__', '__new__', '__reduce__', '__reduce_ex__', '__repr__', '__setattr__', '__sizeof__', '__str__', '__subclasshook__']\n"
     ]
    }
   ],
   "source": [
    "# object() \n",
    "# it return a new object \n",
    "\n",
    "name = object()\n",
    "print(type(name))\n",
    "print(dir(name))"
   ]
  },
  {
   "cell_type": "code",
   "execution_count": 10,
   "metadata": {},
   "outputs": [
    {
     "name": "stdout",
     "output_type": "stream",
     "text": [
      "the octal value of 34 us 0o42\n"
     ]
    }
   ],
   "source": [
    "# oct() \n",
    "# it return an octal string from the given integer  number \n",
    "\n",
    "num = int(input(\"enter a number \"))\n",
    "print(f\"the octal value of {num} us {oct(num)}\")"
   ]
  },
  {
   "cell_type": "code",
   "execution_count": 11,
   "metadata": {},
   "outputs": [
    {
     "name": "stdout",
     "output_type": "stream",
     "text": [
      "oct(1729) is  0o3301\n"
     ]
    }
   ],
   "source": [
    "# decimal to octal\n",
    "print(\"oct(1729) is \" , oct(1729))"
   ]
  },
  {
   "cell_type": "code",
   "execution_count": 21,
   "metadata": {},
   "outputs": [
    {
     "name": "stdout",
     "output_type": "stream",
     "text": [
      "[]\n",
      "['p', 'y', 't', 'h', 'o', 'n']\n",
      "[0.577, 1.618, 2.718, 3.14, 1729, 37, 6, 28]\n",
      "[0.577, 1.618, 3.14, 37, 28, 6, 1729, 2.718]\n",
      "['euler_constant ', 'euler_number', 'pi', 'prefect number ', 'golden_ratio']\n"
     ]
    }
   ],
   "source": [
    "# list ()\n",
    "# it create a list in python \n",
    "print(list())\n",
    "txt =\"python\"\n",
    "print(list(txt))\n",
    "special_nums_set ={0.577 ,1.618 ,3.14 ,37 ,28 ,6 ,1729 , 2.718}\n",
    "print(list(special_nums_set))\n",
    "special_nums_tuple =(0.577 ,1.618 ,3.14 ,37 ,28 ,6 ,1729 , 2.718)\n",
    "print(list(special_nums_tuple))\n",
    "special_nums_dict = {\"euler_constant \" : 0.577,\n",
    "                    \"euler_number\" : 2.718,\n",
    "                    \"pi\"  :3.14 , \n",
    "                    \"prefect number \" : 7,\n",
    "                    \"golden_ratio\" : 1.618}\n",
    "print(list(special_nums_dict))"
   ]
  },
  {
   "cell_type": "code",
   "execution_count": 26,
   "metadata": {},
   "outputs": [
    {
     "name": "stdout",
     "output_type": "stream",
     "text": [
      "(1+0j)\n"
     ]
    }
   ],
   "source": [
    "# complex () \n",
    "# it return a complex number \n",
    "print(complex(1))"
   ]
  },
  {
   "cell_type": "code",
   "execution_count": null,
   "metadata": {},
   "outputs": [],
   "source": []
  },
  {
   "cell_type": "code",
   "execution_count": 3,
   "metadata": {},
   "outputs": [
    {
     "name": "stdout",
     "output_type": "stream",
     "text": [
      "['In', 'Out', '_', '_1', '__', '___', '__builtin__', '__builtins__', '__doc__', '__loader__', '__name__', '__package__', '__spec__', '__vsc_ipynb_file__', '_dh', '_i', '_i1', '_i2', '_i3', '_ih', '_ii', '_iii', '_oh', 'exit', 'get_ipython', 'open', 'quit']\n",
      "\n",
      "['__abs__', '__add__', '__bool__', '__ceil__', '__class__', '__delattr__', '__dir__', '__divmod__', '__doc__', '__eq__', '__float__', '__floor__', '__floordiv__', '__format__', '__ge__', '__getattribute__', '__getformat__', '__getnewargs__', '__getstate__', '__gt__', '__hash__', '__init__', '__init_subclass__', '__int__', '__le__', '__lt__', '__mod__', '__mul__', '__ne__', '__neg__', '__new__', '__pos__', '__pow__', '__radd__', '__rdivmod__', '__reduce__', '__reduce_ex__', '__repr__', '__rfloordiv__', '__rmod__', '__rmul__', '__round__', '__rpow__', '__rsub__', '__rtruediv__', '__setattr__', '__sizeof__', '__str__', '__sub__', '__subclasshook__', '__truediv__', '__trunc__', 'as_integer_ratio', 'conjugate', 'fromhex', 'hex', 'imag', 'is_integer', 'real']\n",
      "\n",
      "['__add__', '__class__', '__class_getitem__', '__contains__', '__delattr__', '__delitem__', '__dir__', '__doc__', '__eq__', '__format__', '__ge__', '__getattribute__', '__getitem__', '__getstate__', '__gt__', '__hash__', '__iadd__', '__imul__', '__init__', '__init_subclass__', '__iter__', '__le__', '__len__', '__lt__', '__mul__', '__ne__', '__new__', '__reduce__', '__reduce_ex__', '__repr__', '__reversed__', '__rmul__', '__setattr__', '__setitem__', '__sizeof__', '__str__', '__subclasshook__', 'append', 'clear', 'copy', 'count', 'extend', 'index', 'insert', 'pop', 'remove', 'reverse', 'sort']\n",
      "\n",
      "['__and__', '__class__', '__class_getitem__', '__contains__', '__delattr__', '__dir__', '__doc__', '__eq__', '__format__', '__ge__', '__getattribute__', '__getstate__', '__gt__', '__hash__', '__iand__', '__init__', '__init_subclass__', '__ior__', '__isub__', '__iter__', '__ixor__', '__le__', '__len__', '__lt__', '__ne__', '__new__', '__or__', '__rand__', '__reduce__', '__reduce_ex__', '__repr__', '__ror__', '__rsub__', '__rxor__', '__setattr__', '__sizeof__', '__str__', '__sub__', '__subclasshook__', '__xor__', 'add', 'clear', 'copy', 'difference', 'difference_update', 'discard', 'intersection', 'intersection_update', 'isdisjoint', 'issubset', 'issuperset', 'pop', 'remove', 'symmetric_difference', 'symmetric_difference_update', 'union', 'update']\n"
     ]
    }
   ],
   "source": [
    " # dir()\n",
    "# it return a list of the specified objects properties and methods\n",
    "name = dir()\n",
    "print(name)\n",
    "print()\n",
    "number = 3.14\n",
    "print(dir(number))\n",
    "print()\n",
    "nlis = [3.14]\n",
    "print(dir(nlis))\n",
    "print()\n",
    "nset = {3.14}\n",
    "print(dir(nset))"
   ]
  },
  {
   "cell_type": "code",
   "execution_count": 4,
   "metadata": {},
   "outputs": [
    {
     "name": "stdout",
     "output_type": "stream",
     "text": [
      "set()\n",
      "{'3', '.', '5', '1'}\n",
      "{'H', 'P', 'y', 'o', ' ', 'l', '!', 't', 'h', 'e', 'n'}\n",
      "{0.577, 1.618, 2.718, 3.14, 1729, 37, 6, 28}\n",
      "{2, 3, 4, 5, 6, 7, 8}\n",
      "{'Perfect number', 'Euler constant', 'Pi number', 'Euler number', 'Golden ratio'}\n"
     ]
    }
   ],
   "source": [
    "# set \n",
    "print(set())\n",
    "print(set('3.15'))\n",
    "print(set('Hello Python!'))\n",
    "special_nums = [0.577, 1.618, 2.718, 3.14, 6, 28, 37, 1729]\n",
    "print(set(special_nums))\n",
    "print(set(range(2, 9)))\n",
    "special_nums_dict = {'Euler constant': 0.577, 'Golden ratio': 1.618, 'Euler number': 2.718, 'Pi number': 3.14, 'Perfect number':7}\n",
    "print(set(special_nums_dict))"
   ]
  },
  {
   "cell_type": "code",
   "execution_count": 5,
   "metadata": {},
   "outputs": [
    {
     "ename": "TypeError",
     "evalue": "SpecialNumbers() takes no arguments",
     "output_type": "error",
     "traceback": [
      "\u001b[1;31m---------------------------------------------------------------------------\u001b[0m",
      "\u001b[1;31mTypeError\u001b[0m                                 Traceback (most recent call last)",
      "\u001b[1;32mc:\\Users\\MS\\Desktop\\python basic\\day_2.ipynb Cell 14\u001b[0m line \u001b[0;36m1\n\u001b[0;32m     <a href='vscode-notebook-cell:/c%3A/Users/MS/Desktop/python%20basic/day_2.ipynb#X16sZmlsZQ%3D%3D?line=13'>14</a>\u001b[0m    \u001b[39mself\u001b[39m\u001b[39m.\u001b[39mgolden_ratio \u001b[39m=\u001b[39m golden_ratio\n\u001b[0;32m     <a href='vscode-notebook-cell:/c%3A/Users/MS/Desktop/python%20basic/day_2.ipynb#X16sZmlsZQ%3D%3D?line=14'>15</a>\u001b[0m    \u001b[39mself\u001b[39m\u001b[39m.\u001b[39mmsg \u001b[39m=\u001b[39m msg\n\u001b[1;32m---> <a href='vscode-notebook-cell:/c%3A/Users/MS/Desktop/python%20basic/day_2.ipynb#X16sZmlsZQ%3D%3D?line=15'>16</a>\u001b[0m special_numbers \u001b[39m=\u001b[39m SpecialNumbers(\u001b[39m0.577\u001b[39;49m, \u001b[39m2.718\u001b[39;49m, \u001b[39m3.14\u001b[39;49m, \u001b[39m1.618\u001b[39;49m, \u001b[39m'\u001b[39;49m\u001b[39mThese numbers are special.\u001b[39;49m\u001b[39m'\u001b[39;49m)\n\u001b[0;32m     <a href='vscode-notebook-cell:/c%3A/Users/MS/Desktop/python%20basic/day_2.ipynb#X16sZmlsZQ%3D%3D?line=16'>17</a>\u001b[0m \u001b[39mprint\u001b[39m(special_numbers\u001b[39m.\u001b[39meuler_constant)\n\u001b[0;32m     <a href='vscode-notebook-cell:/c%3A/Users/MS/Desktop/python%20basic/day_2.ipynb#X16sZmlsZQ%3D%3D?line=17'>18</a>\u001b[0m \u001b[39mprint\u001b[39m(special_numbers\u001b[39m.\u001b[39meuler_number)\n",
      "\u001b[1;31mTypeError\u001b[0m: SpecialNumbers() takes no arguments"
     ]
    }
   ],
   "source": [
    "# setattr()\n",
    "# sets an attribute of an object \n",
    "class SpecialNumbers:\n",
    " euler_constant = 0.0\n",
    " euler_number = 0.0\n",
    " pi = 0.0\n",
    " golden_ratio = 0.0\n",
    " msg = ''\n",
    " \n",
    " def _init_(self, euler_constant, euler_number, pi, golden_ratio, msg):\n",
    "   self.euler_constant = euler_constant\n",
    "   self.euler_number = euler_number\n",
    "   self.pi = pi\n",
    "   self.golden_ratio = golden_ratio\n",
    "   self.msg = msg\n",
    "special_numbers = SpecialNumbers(0.577, 2.718, 3.14, 1.618, 'These numbers are special.')\n",
    "print(special_numbers.euler_constant)\n",
    "print(special_numbers.euler_number)\n",
    "print(special_numbers.pi)\n",
    "print(special_numbers.golden_ratio)\n",
    "print(special_numbers.msg)\n",
    "setattr(special_numbers, 'Ramanujan_Hardy_number', 1729)\n",
    "print(special_numbers.Ramanujan_Hardy_number)"
   ]
  },
  {
   "cell_type": "code",
   "execution_count": 6,
   "metadata": {},
   "outputs": [
    {
     "name": "stdout",
     "output_type": "stream",
     "text": [
      "slice(None, 2.718, None)\n",
      "slice(0.577, 1.618, 3.14)\n",
      "Hello\n",
      "[0.577, 1.618, 2.718, 3.14]\n",
      "[1729, 28, 3.14]\n",
      "[0.577, 1.618, 2.718, 3.14]\n",
      "[6, 28, 37]\n"
     ]
    }
   ],
   "source": [
    "# slice()\n",
    "# return a silce object that is used to slice any sequence \n",
    "\n",
    "print(slice(2.718))\n",
    "print(slice(0.577, 1.618, 3.14))\n",
    "msg = 'Hello, Python!'\n",
    "sliced_msg = slice(5)\n",
    "print(msg[sliced_msg])\n",
    "special_nums = [0.577, 1.618, 2.718, 3.14, 6, 28, 37, 1729]\n",
    "sliced_list = slice(4)\n",
    "print(special_nums[sliced_list])\n",
    "sliced_list = slice(-1, -6, -2)\n",
    "print(special_nums[sliced_list])\n",
    "print(special_nums[0:4]) # Slicing with indexing\n",
    "print(special_nums[-4:-1])"
   ]
  },
  {
   "cell_type": "code",
   "execution_count": 7,
   "metadata": {},
   "outputs": [
    {
     "name": "stdout",
     "output_type": "stream",
     "text": [
      "[0.577, 1.618, 2.718, 3.14, 6, 28, 37, 1729]\n",
      "[' ', '!', ',', 'H', 'P', 'e', 'h', 'l', 'l', 'n', 'o', 'o', 't', 'y']\n"
     ]
    }
   ],
   "source": [
    "# sorted()\n",
    "special_nums = [2.718, 1729, 0.577, 1.618, 28, 3.14, 6, 37]\n",
    "print(sorted(special_nums))\n",
    "txt = 'Hello, Python!'\n",
    "print(sorted(txt))"
   ]
  },
  {
   "cell_type": "code",
   "execution_count": 8,
   "metadata": {},
   "outputs": [
    {
     "name": "stdout",
     "output_type": "stream",
     "text": [
      "57\n",
      "88\n",
      "87\n",
      "94\n"
     ]
    }
   ],
   "source": [
    "# ord()\n",
    "# convert an integer representing the unicode of the specified character \n",
    "print(ord('9'))\n",
    "print(ord('X'))\n",
    "print(ord('W'))\n",
    "print(ord('^'))"
   ]
  },
  {
   "cell_type": "code",
   "execution_count": 9,
   "metadata": {},
   "outputs": [
    {
     "name": "stdout",
     "output_type": "stream",
     "text": [
      "23.09634618919156\n",
      "0.0016\n",
      "4096\n",
      "36\n",
      "0.027777777777777776\n"
     ]
    }
   ],
   "source": [
    "# pow()\n",
    "# the pow function return the power of a number \n",
    "print(pow(2.718, 3.14))\n",
    "print(pow(-25, -2))\n",
    "print(pow(16, 3))\n",
    "print(pow(-6, 2))\n",
    "print(pow(6, -2))"
   ]
  },
  {
   "cell_type": "code",
   "execution_count": null,
   "metadata": {},
   "outputs": [],
   "source": []
  },
  {
   "cell_type": "code",
   "execution_count": 10,
   "metadata": {},
   "outputs": [
    {
     "name": "stdout",
     "output_type": "stream",
     "text": [
      "hello python\n"
     ]
    }
   ],
   "source": [
    "# print()\n",
    "# it print the given object \n",
    "msg = \"hello python\"\n",
    "print(msg)"
   ]
  },
  {
   "cell_type": "code",
   "execution_count": 11,
   "metadata": {},
   "outputs": [
    {
     "name": "stdout",
     "output_type": "stream",
     "text": [
      "[]\n",
      "[0, 1, 2, 3, 4, 5, 6, 7, 8]\n",
      "[2, 3, 4, 5, 6, 7, 8]\n",
      "2\n",
      "3\n",
      "4\n",
      "5\n",
      "6\n",
      "7\n",
      "8\n"
     ]
    }
   ],
   "source": [
    "# range()\n",
    "print(list(range(0)))\n",
    "print(list(range(9)))\n",
    "print(list(range(2, 9)))\n",
    "for i in range(2, 9):\n",
    " print(i)"
   ]
  },
  {
   "cell_type": "code",
   "execution_count": 13,
   "metadata": {},
   "outputs": [
    {
     "name": "stdout",
     "output_type": "stream",
     "text": [
      "['n', 'o', 'h', 't', 'y', 'P']\n",
      "[37, 6, 3.14, 28, 1.618, 0.577, 1729, 2.718]\n",
      "[27, 26, 25, 24, 23, 22, 21, 20, 19, 18, 17, 16, 15, 14, 13, 12, 11, 10, 9, 8, 7, 6]\n",
      "[37, 6, 3.14, 28, 1.618, 0.577, 1729, 2.718]\n"
     ]
    }
   ],
   "source": [
    "# reserved() \n",
    "# return the reserved iterator of the given sequences \n",
    "txt = 'Python'\n",
    "print(list(reversed(txt)))\n",
    "special_nums = [2.718, 1729, 0.577, 1.618, 28, 3.14, 6, 37]\n",
    "print(list(reversed(special_nums)))\n",
    "nums = range(6, 28)\n",
    "print(list(reversed(nums)))\n",
    "special_nums_tuple = (2.718, 1729, 0.577, 1.618, 28, 3.14, 6, 37)\n",
    "print(list(reversed(special_nums_tuple)))"
   ]
  },
  {
   "cell_type": "code",
   "execution_count": 14,
   "metadata": {},
   "outputs": [
    {
     "name": "stdout",
     "output_type": "stream",
     "text": [
      "3\n",
      "3\n",
      "1\n",
      "2\n",
      "1729\n"
     ]
    }
   ],
   "source": [
    "# round()\n",
    "# return a floating - point number rounded to the specified numbers of decimal\n",
    "print(round(3.14))\n",
    "print(round(2.718))\n",
    "print(round(0.577))\n",
    "print(round(1.618))\n",
    "print(round(1729))"
   ]
  },
  {
   "cell_type": "code",
   "execution_count": 15,
   "metadata": {},
   "outputs": [
    {
     "name": "stdout",
     "output_type": "stream",
     "text": [
      "3.14\n",
      "<class 'str'>\n"
     ]
    }
   ],
   "source": [
    "# str ()\n",
    "# return the string version of the given object \n",
    "num = 3.14\n",
    "val = str(num)\n",
    "print(val)\n",
    "print(type(val))"
   ]
  },
  {
   "cell_type": "code",
   "execution_count": 16,
   "metadata": {},
   "outputs": [
    {
     "name": "stdout",
     "output_type": "stream",
     "text": [
      "(2.718, 1729, 0.577, 1.618, 28, 3.14, 6, 37)\n",
      "('H', 'e', 'l', 'l', 'o', ',', ' ', 'P', 'y', 't', 'h', 'o', 'n', '!')\n",
      "('A', 'B', 'C')\n"
     ]
    }
   ],
   "source": [
    "# tuple \n",
    "special_nums = [2.718, 1729, 0.577, 1.618, 28, 3.14, 6, 37]\n",
    "special_nums_tuple = tuple(special_nums)\n",
    "print(special_nums_tuple)\n",
    "txt = 'Hello, Python!'\n",
    "txt_tuple = tuple(txt)\n",
    "print(txt_tuple)\n",
    "dictionary = {'A': 0.577, 'B': 2.718, 'C': 3.14}\n",
    "dictionary_tuple = tuple(dictionary)\n",
    "print(dictionary_tuple)"
   ]
  },
  {
   "cell_type": "code",
   "execution_count": 17,
   "metadata": {},
   "outputs": [
    {
     "name": "stdout",
     "output_type": "stream",
     "text": [
      "(2.718, 1729, 0.577, 1.618, 28, 3.14, 6, 37)\n",
      "<class 'list'>\n",
      "\n",
      "('H', 'e', 'l', 'l', 'o', ',', ' ', 'P', 'y', 't', 'h', 'o', 'n', '!')\n",
      "<class 'str'>\n",
      "\n",
      "('A', 'B', 'C')\n",
      "<class 'dict'>\n",
      "\n",
      "(0.577, 1729, 2.718, 3.14, 1.618, 37, 6, 28)\n",
      "<class 'set'>\n",
      "\n"
     ]
    },
    {
     "ename": "TypeError",
     "evalue": "SpecialNumbers() takes no arguments",
     "output_type": "error",
     "traceback": [
      "\u001b[1;31m---------------------------------------------------------------------------\u001b[0m",
      "\u001b[1;31mTypeError\u001b[0m                                 Traceback (most recent call last)",
      "\u001b[1;32mc:\\Users\\MS\\Desktop\\python basic\\day_2.ipynb Cell 26\u001b[0m line \u001b[0;36m3\n\u001b[0;32m     <a href='vscode-notebook-cell:/c%3A/Users/MS/Desktop/python%20basic/day_2.ipynb#X33sZmlsZQ%3D%3D?line=33'>34</a>\u001b[0m     \u001b[39mself\u001b[39m\u001b[39m.\u001b[39mgolden_ratio \u001b[39m=\u001b[39m golden_ratio\n\u001b[0;32m     <a href='vscode-notebook-cell:/c%3A/Users/MS/Desktop/python%20basic/day_2.ipynb#X33sZmlsZQ%3D%3D?line=34'>35</a>\u001b[0m     \u001b[39mself\u001b[39m\u001b[39m.\u001b[39mmsg \u001b[39m=\u001b[39m msg\n\u001b[1;32m---> <a href='vscode-notebook-cell:/c%3A/Users/MS/Desktop/python%20basic/day_2.ipynb#X33sZmlsZQ%3D%3D?line=35'>36</a>\u001b[0m special_numbers \u001b[39m=\u001b[39m SpecialNumbers(\u001b[39m0.577\u001b[39;49m, \u001b[39m2.718\u001b[39;49m, \u001b[39m3.14\u001b[39;49m, \u001b[39m1.618\u001b[39;49m, \u001b[39m'\u001b[39;49m\u001b[39mThese numbers are very special.\u001b[39;49m\u001b[39m'\u001b[39;49m)\n\u001b[0;32m     <a href='vscode-notebook-cell:/c%3A/Users/MS/Desktop/python%20basic/day_2.ipynb#X33sZmlsZQ%3D%3D?line=36'>37</a>\u001b[0m \u001b[39mprint\u001b[39m(\u001b[39mtype\u001b[39m(special_numbers))\n",
      "\u001b[1;31mTypeError\u001b[0m: SpecialNumbers() takes no arguments"
     ]
    }
   ],
   "source": [
    "#  type \n",
    "# it used to find the type()\n",
    "special_nums = [2.718, 1729, 0.577, 1.618, 28, 3.14, 6, 37]\n",
    "special_nums_tuple = tuple(special_nums)\n",
    "print(special_nums_tuple)\n",
    "print(type(special_nums))\n",
    "print()\n",
    "txt = 'Hello, Python!'\n",
    "txt_tuple = tuple(txt)\n",
    "print(txt_tuple)\n",
    "print(type(txt))\n",
    "print()\n",
    "dictionary = {'A': 0.577, 'B': 2.718, 'C': 3.14}\n",
    "dictionary_tuple = tuple(dictionary)\n",
    "print(dictionary_tuple)\n",
    "print(type(dictionary))\n",
    "print()\n",
    "special_nums_set = {2.718, 1729, 0.577, 1.618, 28, 3.14, 6, 37}\n",
    "special_nums_tuple = tuple(special_nums_set)\n",
    "print(special_nums_tuple)\n",
    "print(type(special_nums_set))\n",
    "print()\n",
    "class SpecialNumbers:\n",
    " euler_constant = 0.577\n",
    " euler_number = 2.718\n",
    " pi = 3.14\n",
    " golden_ratio = 1.618\n",
    " msg = 'These numbers are very special'\n",
    " \n",
    " def _init_(self, euler_constant, euler_number, pi, golden_ratio, msg):\n",
    "    self.euler_constant = euler_constant\n",
    "    self.euler_number = euler_number\n",
    "    self.pi = pi\n",
    "    self.golden_ratio = golden_ratio\n",
    "    self.msg = msg\n",
    "special_numbers = SpecialNumbers(0.577, 2.718, 3.14, 1.618, 'These numbers are very special.')\n",
    "print(type(special_numbers))"
   ]
  },
  {
   "cell_type": "code",
   "execution_count": 19,
   "metadata": {},
   "outputs": [
    {
     "ename": "TypeError",
     "evalue": "SpecialNumbers() takes no arguments",
     "output_type": "error",
     "traceback": [
      "\u001b[1;31m---------------------------------------------------------------------------\u001b[0m",
      "\u001b[1;31mTypeError\u001b[0m                                 Traceback (most recent call last)",
      "\u001b[1;32mc:\\Users\\MS\\Desktop\\python basic\\day_2.ipynb Cell 27\u001b[0m line \u001b[0;36m1\n\u001b[0;32m     <a href='vscode-notebook-cell:/c%3A/Users/MS/Desktop/python%20basic/day_2.ipynb#X34sZmlsZQ%3D%3D?line=13'>14</a>\u001b[0m   \u001b[39mself\u001b[39m\u001b[39m.\u001b[39mgolden_ratio \u001b[39m=\u001b[39m golden_ratio\n\u001b[0;32m     <a href='vscode-notebook-cell:/c%3A/Users/MS/Desktop/python%20basic/day_2.ipynb#X34sZmlsZQ%3D%3D?line=14'>15</a>\u001b[0m   \u001b[39mself\u001b[39m\u001b[39m.\u001b[39mmsg \u001b[39m=\u001b[39m msg\n\u001b[1;32m---> <a href='vscode-notebook-cell:/c%3A/Users/MS/Desktop/python%20basic/day_2.ipynb#X34sZmlsZQ%3D%3D?line=15'>16</a>\u001b[0m special_numbers\u001b[39m=\u001b[39m SpecialNumbers(\u001b[39m0.577\u001b[39;49m, \u001b[39m2.718\u001b[39;49m, \u001b[39m3.14\u001b[39;49m, \u001b[39m1.618\u001b[39;49m, \u001b[39m'\u001b[39;49m\u001b[39mThese numbers are very special.\u001b[39;49m\u001b[39m'\u001b[39;49m)\n\u001b[0;32m     <a href='vscode-notebook-cell:/c%3A/Users/MS/Desktop/python%20basic/day_2.ipynb#X34sZmlsZQ%3D%3D?line=16'>17</a>\u001b[0m \u001b[39mprint\u001b[39m(\u001b[39mvars\u001b[39m(special_numbers))\n",
      "\u001b[1;31mTypeError\u001b[0m: SpecialNumbers() takes no arguments"
     ]
    }
   ],
   "source": [
    "# vars()\n",
    "# the vars function return the dict attribute of the given object \n",
    "class SpecialNumbers:\n",
    " euler_constant = 0.577\n",
    " euler_number = 2.718\n",
    " pi = 3.14\n",
    " golden_ratio = 1.618\n",
    " msg = 'These numbers are very special'\n",
    " \n",
    " def _init_(self, euler_constant, euler_number, pi, golden_ratio, msg):\n",
    "  self.euler_constant = euler_constant\n",
    "  self.euler_number = euler_number\n",
    "  self.pi = pi\n",
    "  self.golden_ratio = golden_ratio\n",
    "  self.msg = msg\n",
    "special_numbers= SpecialNumbers(0.577, 2.718, 3.14, 1.618, 'These numbers are very special.')\n",
    "print(vars(special_numbers))"
   ]
  },
  {
   "cell_type": "code",
   "execution_count": 22,
   "metadata": {},
   "outputs": [
    {
     "name": "stdout",
     "output_type": "stream",
     "text": [
      "[]\n",
      "{('Ramanujan-Hardy number', 1729), ('Perfect number', 28), ('Euler number', 2.718), ('Euler constant', 0.577), ('Golden ratio', 1.618)}\n"
     ]
    }
   ],
   "source": [
    "# zip ()\n",
    "#  it takes iterable( can be zero or more) , aggregates them in a tuple and return it \n",
    "special_nums = [2.718, 1729, 0.577, 1.618, 28, 3.14, 37]\n",
    "special_nums_name = ['Euler number', 'Ramanujan-Hardy number', 'Euler constant', 'Golden ratio', 'Perfect number']\n",
    "output = zip()\n",
    "output_list = list(output)\n",
    "print(output_list)\n",
    "reel_output = zip(special_nums_name, special_nums)\n",
    "reel_output_set = set(reel_output)\n",
    "print(reel_output_set)"
   ]
  },
  {
   "cell_type": "code",
   "execution_count": 24,
   "metadata": {},
   "outputs": [
    {
     "name": "stdout",
     "output_type": "stream",
     "text": [
      "These numbers are very special in mathematik.\n"
     ]
    }
   ],
   "source": [
    "# super()\n",
    "# return a poxy object that allows us to acees mrthod of the base class\n",
    "class SpecialNumbers(object):\n",
    " def _init_(self, special_numbers):\n",
    "  print('6 and 28 are', special_numbers)\n",
    "class PerfectNumbers(SpecialNumbers): \n",
    " def _init_(self):\n",
    "  super()._init_('perfect numbers.')\n",
    " print('These numbers are very special in mathematik.')\n",
    "nums = PerfectNumbers()"
   ]
  },
  {
   "cell_type": "code",
   "execution_count": 26,
   "metadata": {},
   "outputs": [
    {
     "name": "stdout",
     "output_type": "stream",
     "text": [
      "3.14\n",
      "2.718\n",
      "64.0\n",
      "0.006737946999085467\n",
      "0.999896315728952\n",
      "720\n"
     ]
    }
   ],
   "source": [
    "# import() \n",
    "# it is a function thst is called by the import statement \n",
    "math =__import__('math', globals(), locals(), [], 0)\n",
    "print(math.fabs(3.14))\n",
    "print(math.fabs(-2.718))\n",
    "print(math.pow(4, 3))\n",
    "print(math.exp(-5))\n",
    "print(math.log(2.718))\n",
    "print(math.factorial(6))"
   ]
  },
  {
   "cell_type": "code",
   "execution_count": 27,
   "metadata": {},
   "outputs": [
    {
     "name": "stdout",
     "output_type": "stream",
     "text": [
      "3.14\n",
      "2.718\n",
      "64.0\n",
      "0.006737946999085467\n",
      "0.999896315728952\n",
      "720\n"
     ]
    }
   ],
   "source": [
    "import math\n",
    "print(math.fabs(3.14))\n",
    "print(math.fabs(-2.718))\n",
    "print(math.pow(4, 3))\n",
    "print(math.exp(-5))\n",
    "print(math.log(2.718))\n",
    "print(math.factorial(6))\n"
   ]
  },
  {
   "cell_type": "code",
   "execution_count": null,
   "metadata": {},
   "outputs": [],
   "source": []
  },
  {
   "cell_type": "code",
   "execution_count": null,
   "metadata": {},
   "outputs": [],
   "source": []
  },
  {
   "cell_type": "code",
   "execution_count": null,
   "metadata": {},
   "outputs": [],
   "source": []
  },
  {
   "cell_type": "code",
   "execution_count": null,
   "metadata": {},
   "outputs": [],
   "source": []
  },
  {
   "cell_type": "code",
   "execution_count": null,
   "metadata": {},
   "outputs": [],
   "source": []
  },
  {
   "cell_type": "code",
   "execution_count": null,
   "metadata": {},
   "outputs": [],
   "source": []
  },
  {
   "cell_type": "code",
   "execution_count": null,
   "metadata": {},
   "outputs": [],
   "source": []
  },
  {
   "cell_type": "code",
   "execution_count": null,
   "metadata": {},
   "outputs": [],
   "source": []
  },
  {
   "cell_type": "code",
   "execution_count": null,
   "metadata": {},
   "outputs": [],
   "source": []
  },
  {
   "cell_type": "code",
   "execution_count": null,
   "metadata": {},
   "outputs": [],
   "source": []
  },
  {
   "cell_type": "code",
   "execution_count": null,
   "metadata": {},
   "outputs": [],
   "source": []
  },
  {
   "cell_type": "code",
   "execution_count": null,
   "metadata": {},
   "outputs": [],
   "source": []
  },
  {
   "cell_type": "code",
   "execution_count": null,
   "metadata": {},
   "outputs": [],
   "source": []
  },
  {
   "cell_type": "code",
   "execution_count": null,
   "metadata": {},
   "outputs": [],
   "source": []
  },
  {
   "cell_type": "code",
   "execution_count": null,
   "metadata": {},
   "outputs": [],
   "source": []
  },
  {
   "cell_type": "code",
   "execution_count": null,
   "metadata": {},
   "outputs": [],
   "source": []
  },
  {
   "cell_type": "code",
   "execution_count": null,
   "metadata": {},
   "outputs": [],
   "source": []
  },
  {
   "cell_type": "code",
   "execution_count": null,
   "metadata": {},
   "outputs": [],
   "source": []
  },
  {
   "cell_type": "code",
   "execution_count": null,
   "metadata": {},
   "outputs": [],
   "source": []
  },
  {
   "cell_type": "code",
   "execution_count": null,
   "metadata": {},
   "outputs": [],
   "source": []
  },
  {
   "cell_type": "code",
   "execution_count": null,
   "metadata": {},
   "outputs": [],
   "source": []
  },
  {
   "cell_type": "code",
   "execution_count": null,
   "metadata": {},
   "outputs": [],
   "source": []
  },
  {
   "cell_type": "code",
   "execution_count": null,
   "metadata": {},
   "outputs": [],
   "source": []
  },
  {
   "cell_type": "code",
   "execution_count": null,
   "metadata": {},
   "outputs": [],
   "source": []
  },
  {
   "cell_type": "code",
   "execution_count": null,
   "metadata": {},
   "outputs": [],
   "source": []
  },
  {
   "cell_type": "code",
   "execution_count": null,
   "metadata": {},
   "outputs": [],
   "source": []
  },
  {
   "cell_type": "code",
   "execution_count": null,
   "metadata": {},
   "outputs": [],
   "source": []
  },
  {
   "cell_type": "code",
   "execution_count": null,
   "metadata": {},
   "outputs": [],
   "source": []
  },
  {
   "cell_type": "code",
   "execution_count": null,
   "metadata": {},
   "outputs": [],
   "source": []
  },
  {
   "cell_type": "code",
   "execution_count": null,
   "metadata": {},
   "outputs": [],
   "source": []
  },
  {
   "cell_type": "code",
   "execution_count": null,
   "metadata": {},
   "outputs": [],
   "source": []
  },
  {
   "cell_type": "code",
   "execution_count": null,
   "metadata": {},
   "outputs": [],
   "source": []
  },
  {
   "cell_type": "code",
   "execution_count": null,
   "metadata": {},
   "outputs": [],
   "source": []
  },
  {
   "cell_type": "code",
   "execution_count": null,
   "metadata": {},
   "outputs": [],
   "source": []
  },
  {
   "cell_type": "code",
   "execution_count": null,
   "metadata": {},
   "outputs": [],
   "source": []
  }
 ],
 "metadata": {
  "kernelspec": {
   "display_name": "Python 3",
   "language": "python",
   "name": "python3"
  },
  "language_info": {
   "codemirror_mode": {
    "name": "ipython",
    "version": 3
   },
   "file_extension": ".py",
   "mimetype": "text/x-python",
   "name": "python",
   "nbconvert_exporter": "python",
   "pygments_lexer": "ipython3",
   "version": "3.11.5"
  },
  "orig_nbformat": 4
 },
 "nbformat": 4,
 "nbformat_minor": 2
}
