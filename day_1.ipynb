{
 "cells": [
  {
   "cell_type": "markdown",
   "metadata": {},
   "source": [
    "# 25_sep"
   ]
  },
  {
   "cell_type": "markdown",
   "metadata": {},
   "source": [
    "# 10- Exception Hnadling In Python"
   ]
  },
  {
   "cell_type": "code",
   "execution_count": 2,
   "metadata": {},
   "outputs": [
    {
     "name": "stdout",
     "output_type": "stream",
     "text": [
      " this code gives a zero division error\n"
     ]
    },
    {
     "ename": "ZeroDivisionError",
     "evalue": "division by zero",
     "output_type": "error",
     "traceback": [
      "\u001b[1;31m---------------------------------------------------------------------------\u001b[0m",
      "\u001b[1;31mZeroDivisionError\u001b[0m                         Traceback (most recent call last)",
      "\u001b[1;32mc:\\Users\\MS\\Desktop\\python basic\\day_1.ipynb Cell 3\u001b[0m line \u001b[0;36m7\n\u001b[0;32m      <a href='vscode-notebook-cell:/c%3A/Users/MS/Desktop/python%20basic/day_1.ipynb#X23sZmlsZQ%3D%3D?line=4'>5</a>\u001b[0m \u001b[39mexcept\u001b[39;00m \u001b[39mZeroDivisionError\u001b[39;00m:\n\u001b[0;32m      <a href='vscode-notebook-cell:/c%3A/Users/MS/Desktop/python%20basic/day_1.ipynb#X23sZmlsZQ%3D%3D?line=5'>6</a>\u001b[0m  \u001b[39mprint\u001b[39m(\u001b[39m\"\u001b[39m\u001b[39m this code gives a zero division error\u001b[39m\u001b[39m\"\u001b[39m)\n\u001b[1;32m----> <a href='vscode-notebook-cell:/c%3A/Users/MS/Desktop/python%20basic/day_1.ipynb#X23sZmlsZQ%3D%3D?line=6'>7</a>\u001b[0m \u001b[39mprint\u001b[39m(\u001b[39m1\u001b[39;49m\u001b[39m/\u001b[39;49m\u001b[39m0\u001b[39;49m)\n",
      "\u001b[1;31mZeroDivisionError\u001b[0m: division by zero"
     ]
    }
   ],
   "source": [
    "# zero division \n",
    "# if a number is divide by 0 is give a zero division\n",
    "try:\n",
    " 1/0\n",
    "except ZeroDivisionError:\n",
    " print(\" this code gives a zero division error\")\n",
    "print(1/0)"
   ]
  },
  {
   "cell_type": "code",
   "execution_count": 3,
   "metadata": {},
   "outputs": [
    {
     "name": "stdout",
     "output_type": "stream",
     "text": [
      "this code give a zerodivisonerror\n"
     ]
    },
    {
     "ename": "ZeroDivisionError",
     "evalue": "division by zero",
     "output_type": "error",
     "traceback": [
      "\u001b[1;31m---------------------------------------------------------------------------\u001b[0m",
      "\u001b[1;31mZeroDivisionError\u001b[0m                         Traceback (most recent call last)",
      "\u001b[1;32mc:\\Users\\MS\\Desktop\\python basic\\day_1.ipynb Cell 4\u001b[0m line \u001b[0;36m6\n\u001b[0;32m      <a href='vscode-notebook-cell:/c%3A/Users/MS/Desktop/python%20basic/day_1.ipynb#Y264sZmlsZQ%3D%3D?line=3'>4</a>\u001b[0m \u001b[39mexcept\u001b[39;00m \u001b[39mZeroDivisionError\u001b[39;00m:\n\u001b[0;32m      <a href='vscode-notebook-cell:/c%3A/Users/MS/Desktop/python%20basic/day_1.ipynb#Y264sZmlsZQ%3D%3D?line=4'>5</a>\u001b[0m     \u001b[39mprint\u001b[39m(\u001b[39m\"\u001b[39m\u001b[39mthis code give a zerodivisonerror\u001b[39m\u001b[39m\"\u001b[39m)\n\u001b[1;32m----> <a href='vscode-notebook-cell:/c%3A/Users/MS/Desktop/python%20basic/day_1.ipynb#Y264sZmlsZQ%3D%3D?line=5'>6</a>\u001b[0m \u001b[39mprint\u001b[39m(\u001b[39mTrue\u001b[39;49;00m\u001b[39m/\u001b[39;49m\u001b[39mFalse\u001b[39;49;00m)\n",
      "\u001b[1;31mZeroDivisionError\u001b[0m: division by zero"
     ]
    }
   ],
   "source": [
    "# the following code is like 1/0\n",
    "try:\n",
    "    True/False\n",
    "except ZeroDivisionError:\n",
    "    print(\"this code give a zerodivisonerror\")\n",
    "print(True/False)"
   ]
  },
  {
   "cell_type": "code",
   "execution_count": 4,
   "metadata": {},
   "outputs": [
    {
     "name": "stdout",
     "output_type": "stream",
     "text": [
      "this code is give a zerodivisionerror\n"
     ]
    },
    {
     "ename": "NameError",
     "evalue": "name 'mean' is not defined",
     "output_type": "error",
     "traceback": [
      "\u001b[1;31m---------------------------------------------------------------------------\u001b[0m",
      "\u001b[1;31mNameError\u001b[0m                                 Traceback (most recent call last)",
      "\u001b[1;32mc:\\Users\\MS\\Desktop\\python basic\\day_1.ipynb Cell 5\u001b[0m line \u001b[0;36m9\n\u001b[0;32m      <a href='vscode-notebook-cell:/c%3A/Users/MS/Desktop/python%20basic/day_1.ipynb#Y263sZmlsZQ%3D%3D?line=6'>7</a>\u001b[0m \u001b[39mexcept\u001b[39;00m \u001b[39mZeroDivisionError\u001b[39;00m:\n\u001b[0;32m      <a href='vscode-notebook-cell:/c%3A/Users/MS/Desktop/python%20basic/day_1.ipynb#Y263sZmlsZQ%3D%3D?line=7'>8</a>\u001b[0m     \u001b[39mprint\u001b[39m(\u001b[39m\"\u001b[39m\u001b[39mthis code is give a zerodivisionerror\u001b[39m\u001b[39m\"\u001b[39m)\n\u001b[1;32m----> <a href='vscode-notebook-cell:/c%3A/Users/MS/Desktop/python%20basic/day_1.ipynb#Y263sZmlsZQ%3D%3D?line=8'>9</a>\u001b[0m \u001b[39mprint\u001b[39m(mean)\n",
      "\u001b[1;31mNameError\u001b[0m: name 'mean' is not defined"
     ]
    }
   ],
   "source": [
    "# name error\n",
    "nlis = []\n",
    "count = 0\n",
    "try:\n",
    "    mean = count/len(nlis)\n",
    "    print(\"the mean value is \", mean)\n",
    "except ZeroDivisionError:\n",
    "    print(\"this code is give a zerodivisionerror\")\n",
    "print(mean)"
   ]
  },
  {
   "cell_type": "code",
   "execution_count": 5,
   "metadata": {},
   "outputs": [
    {
     "name": "stdout",
     "output_type": "stream",
     "text": [
      "this give a name eror\n"
     ]
    },
    {
     "ename": "NameError",
     "evalue": "name 'y' is not defined",
     "output_type": "error",
     "traceback": [
      "\u001b[1;31m---------------------------------------------------------------------------\u001b[0m",
      "\u001b[1;31mNameError\u001b[0m                                 Traceback (most recent call last)",
      "\u001b[1;32mc:\\Users\\MS\\Desktop\\python basic\\day_1.ipynb Cell 6\u001b[0m line \u001b[0;36m5\n\u001b[0;32m      <a href='vscode-notebook-cell:/c%3A/Users/MS/Desktop/python%20basic/day_1.ipynb#Y262sZmlsZQ%3D%3D?line=2'>3</a>\u001b[0m \u001b[39mexcept\u001b[39;00m \u001b[39mNameError\u001b[39;00m:\n\u001b[0;32m      <a href='vscode-notebook-cell:/c%3A/Users/MS/Desktop/python%20basic/day_1.ipynb#Y262sZmlsZQ%3D%3D?line=3'>4</a>\u001b[0m     \u001b[39mprint\u001b[39m(\u001b[39m\"\u001b[39m\u001b[39mthis give a name eror\u001b[39m\u001b[39m\"\u001b[39m)\n\u001b[1;32m----> <a href='vscode-notebook-cell:/c%3A/Users/MS/Desktop/python%20basic/day_1.ipynb#Y262sZmlsZQ%3D%3D?line=4'>5</a>\u001b[0m \u001b[39mprint\u001b[39m(y)\n",
      "\u001b[1;31mNameError\u001b[0m: name 'y' is not defined"
     ]
    }
   ],
   "source": [
    "try:\n",
    "    y = x+5\n",
    "except NameError:\n",
    "    print(\"this give a name eror\")\n",
    "print(y)"
   ]
  },
  {
   "cell_type": "code",
   "execution_count": 6,
   "metadata": {},
   "outputs": [
    {
     "ename": "IndexError",
     "evalue": "list index out of range",
     "output_type": "error",
     "traceback": [
      "\u001b[1;31m---------------------------------------------------------------------------\u001b[0m",
      "\u001b[1;31mIndexError\u001b[0m                                Traceback (most recent call last)",
      "\u001b[1;32mc:\\Users\\MS\\Desktop\\python basic\\day_1.ipynb Cell 7\u001b[0m line \u001b[0;36m7\n\u001b[0;32m      <a href='vscode-notebook-cell:/c%3A/Users/MS/Desktop/python%20basic/day_1.ipynb#Y261sZmlsZQ%3D%3D?line=4'>5</a>\u001b[0m \u001b[39mexcept\u001b[39;00m \u001b[39mIndexError\u001b[39;00m:\n\u001b[0;32m      <a href='vscode-notebook-cell:/c%3A/Users/MS/Desktop/python%20basic/day_1.ipynb#Y261sZmlsZQ%3D%3D?line=5'>6</a>\u001b[0m     \u001b[39mprint\u001b[39m(\u001b[39m\"\u001b[39m\u001b[39mthis code gives us a indexError\u001b[39m\u001b[39m\"\u001b[39m)\n\u001b[1;32m----> <a href='vscode-notebook-cell:/c%3A/Users/MS/Desktop/python%20basic/day_1.ipynb#Y261sZmlsZQ%3D%3D?line=6'>7</a>\u001b[0m \u001b[39mprint\u001b[39m(nlis[\u001b[39m10\u001b[39;49m])\n",
      "\u001b[1;31mIndexError\u001b[0m: list index out of range"
     ]
    }
   ],
   "source": [
    "# index error \n",
    "nlis =[0.577 ,1.618 ,2.718 ,3.14 ,6, 28 , 37,1729]\n",
    "try:\n",
    "    nlis[0]\n",
    "except IndexError:\n",
    "    print(\"this code gives us a indexError\")\n",
    "print(nlis[10])"
   ]
  },
  {
   "cell_type": "code",
   "execution_count": 7,
   "metadata": {},
   "outputs": [
    {
     "name": "stdout",
     "output_type": "stream",
     "text": [
      "this code gives us a indexError\n"
     ]
    },
    {
     "ename": "IndexError",
     "evalue": "tuple index out of range",
     "output_type": "error",
     "traceback": [
      "\u001b[1;31m---------------------------------------------------------------------------\u001b[0m",
      "\u001b[1;31mIndexError\u001b[0m                                Traceback (most recent call last)",
      "\u001b[1;32mc:\\Users\\MS\\Desktop\\python basic\\day_1.ipynb Cell 8\u001b[0m line \u001b[0;36m6\n\u001b[0;32m      <a href='vscode-notebook-cell:/c%3A/Users/MS/Desktop/python%20basic/day_1.ipynb#Y260sZmlsZQ%3D%3D?line=3'>4</a>\u001b[0m \u001b[39mexcept\u001b[39;00m \u001b[39mIndexError\u001b[39;00m:\n\u001b[0;32m      <a href='vscode-notebook-cell:/c%3A/Users/MS/Desktop/python%20basic/day_1.ipynb#Y260sZmlsZQ%3D%3D?line=4'>5</a>\u001b[0m     \u001b[39mprint\u001b[39m(\u001b[39m\"\u001b[39m\u001b[39mthis code gives us a indexError\u001b[39m\u001b[39m\"\u001b[39m)\n\u001b[1;32m----> <a href='vscode-notebook-cell:/c%3A/Users/MS/Desktop/python%20basic/day_1.ipynb#Y260sZmlsZQ%3D%3D?line=5'>6</a>\u001b[0m \u001b[39mprint\u001b[39m(tuple_sample[\u001b[39m10\u001b[39;49m])\n",
      "\u001b[1;31mIndexError\u001b[0m: tuple index out of range"
     ]
    }
   ],
   "source": [
    "tuple_sample =(0.577 ,1.618 ,2.718 ,3.14 ,6, 28 , 37,1729)\n",
    "try:\n",
    "  tuple_sample [10]\n",
    "except IndexError:\n",
    "    print(\"this code gives us a indexError\")\n",
    "print(tuple_sample[10])"
   ]
  },
  {
   "cell_type": "code",
   "execution_count": 8,
   "metadata": {},
   "outputs": [
    {
     "ename": "TypeError",
     "evalue": "'float' object is not subscriptable",
     "output_type": "error",
     "traceback": [
      "\u001b[1;31m---------------------------------------------------------------------------\u001b[0m",
      "\u001b[1;31mTypeError\u001b[0m                                 Traceback (most recent call last)",
      "\u001b[1;32mc:\\Users\\MS\\Desktop\\python basic\\day_1.ipynb Cell 9\u001b[0m line \u001b[0;36m7\n\u001b[0;32m      <a href='vscode-notebook-cell:/c%3A/Users/MS/Desktop/python%20basic/day_1.ipynb#Y256sZmlsZQ%3D%3D?line=4'>5</a>\u001b[0m \u001b[39mexcept\u001b[39;00m \u001b[39mKeyError\u001b[39;00m:\n\u001b[0;32m      <a href='vscode-notebook-cell:/c%3A/Users/MS/Desktop/python%20basic/day_1.ipynb#Y256sZmlsZQ%3D%3D?line=5'>6</a>\u001b[0m     \u001b[39mprint\u001b[39m(\u001b[39m\"\u001b[39m\u001b[39mthis code give us a key error\u001b[39m\u001b[39m\"\u001b[39m)\n\u001b[1;32m----> <a href='vscode-notebook-cell:/c%3A/Users/MS/Desktop/python%20basic/day_1.ipynb#Y256sZmlsZQ%3D%3D?line=6'>7</a>\u001b[0m dictonary \u001b[39m=\u001b[39m dictonary[\u001b[39m\"\u001b[39;49m\u001b[39meular_constant\u001b[39;49m\u001b[39m\"\u001b[39;49m]\n\u001b[0;32m      <a href='vscode-notebook-cell:/c%3A/Users/MS/Desktop/python%20basic/day_1.ipynb#Y256sZmlsZQ%3D%3D?line=8'>9</a>\u001b[0m \u001b[39mprint\u001b[39m(dictonary)\n",
      "\u001b[1;31mTypeError\u001b[0m: 'float' object is not subscriptable"
     ]
    }
   ],
   "source": [
    "# key eror \n",
    "dictonary = {'eular_constant':0.577 , \"golden_ratio\" : 1.618}\n",
    "try:\n",
    "    dictonary = dictonary[\"eular_constant\"]\n",
    "except KeyError:\n",
    "    print(\"this code give us a key error\")\n",
    "dictonary = dictonary[\"eular_constant\"]\n",
    "\n",
    "print(dictonary)"
   ]
  },
  {
   "cell_type": "code",
   "execution_count": 9,
   "metadata": {},
   "outputs": [
    {
     "name": "stdout",
     "output_type": "stream",
     "text": [
      "since the variable name is not defined, the function gives a name error\n"
     ]
    }
   ],
   "source": [
    "# exception handling \n",
    "try:\n",
    "    print(name)\n",
    "except:\n",
    "    print(\"since the variable name is not defined, the function gives a name error\")"
   ]
  },
  {
   "cell_type": "code",
   "execution_count": 10,
   "metadata": {},
   "outputs": [
    {
     "name": "stdout",
     "output_type": "stream",
     "text": [
      "the entered value is  20.6\n",
      "the entered value is  22.5\n",
      "this process is running with value = 0.9155555555555556\n"
     ]
    }
   ],
   "source": [
    "num1 = float(input(\"enter a number :\"))\n",
    "print(\"the entered value is \" , num1)\n",
    "try:\n",
    "    num2 = float(input(\"enter a number :\"))\n",
    "    print(\"the entered value is \" , num2)\n",
    "    value = num1/ num2\n",
    "    print(\"this process is running with value =\" ,value)\n",
    "except:\n",
    "    print(\"this process is not running\")"
   ]
  },
  {
   "cell_type": "code",
   "execution_count": 11,
   "metadata": {},
   "outputs": [
    {
     "name": "stdout",
     "output_type": "stream",
     "text": [
      "the entered value is  22.5\n",
      "the entered value is  0.0\n",
      "this function gives a zero division error since a number cannnot divided by 0\n"
     ]
    }
   ],
   "source": [
    "# multiple except blocks\n",
    "num1 = float(input(\"enter a number :\"))\n",
    "print(\"the entered value is \" , num1)\n",
    "try:\n",
    "    num2 = float(input(\"enter a number :\"))\n",
    "    print(\"the entered value is \" , num2)\n",
    "    value = num1/ num2\n",
    "    print(\"this process is running with value =\" ,value)\n",
    "except ZeroDivisionError:\n",
    "    print(\"this function gives a zero division error since a number cannnot divided by 0\")\n",
    "except ValueError:\n",
    "    print(\"you should provide a number\")\n",
    "except:\n",
    "    print(\"something went wrong\")\n",
    "    \n"
   ]
  },
  {
   "cell_type": "code",
   "execution_count": 14,
   "metadata": {},
   "outputs": [
    {
     "name": "stdout",
     "output_type": "stream",
     "text": [
      "the entered value is  22.2\n",
      "the entered value is  22.1\n",
      "this process is running with value = 1.004524886877828\n"
     ]
    }
   ],
   "source": [
    "# try / except / else\n",
    "num1 = float(input(\"enter a number :\"))\n",
    "print(\"the entered value is \" , num1)\n",
    "try:\n",
    "    num2 = float(input(\"enter a number :\"))\n",
    "    print(\"the entered value is \" , num2)\n",
    "    value = num1/ num2\n",
    "    \n",
    "except ZeroDivisionError:\n",
    "    print(\"this function gives a zero division error since a number cannnot divided by 0\")\n",
    "except ValueError:\n",
    "    print(\"you should provide a number\")\n",
    "except:\n",
    "    print(\"something went wrong\")\n",
    "else:\n",
    "    print(\"this process is running with value =\" ,value)"
   ]
  },
  {
   "cell_type": "code",
   "execution_count": 15,
   "metadata": {},
   "outputs": [
    {
     "name": "stdout",
     "output_type": "stream",
     "text": [
      "the entered value is  22.2\n",
      "the entered value is  22.1\n",
      "this process is running with value = 1.004524886877828\n",
      "this process is completed\n"
     ]
    }
   ],
   "source": [
    "# try /except / else / finally \n",
    "num1 = float(input(\"enter a number :\"))\n",
    "print(\"the entered value is \" , num1)\n",
    "try:\n",
    "    num2 = float(input(\"enter a number :\"))\n",
    "    print(\"the entered value is \" , num2)\n",
    "    value = num1/ num2\n",
    "    \n",
    "except ZeroDivisionError:\n",
    "    print(\"this function gives a zero division error since a number cannnot divided by 0\")\n",
    "except ValueError:\n",
    "    print(\"you should provide a number\")\n",
    "except:\n",
    "    print(\"something went wrong\")\n",
    "else:\n",
    "    print(\"this process is running with value =\" ,value)\n",
    "finally:\n",
    "    print(\"this process is completed\")"
   ]
  },
  {
   "cell_type": "code",
   "execution_count": 17,
   "metadata": {},
   "outputs": [
    {
     "name": "stdout",
     "output_type": "stream",
     "text": [
      "the entered value is  22.3\n",
      "the entered value is  22.4\n",
      "this process is running with value = 0.9955357142857144\n",
      "this process is completed\n"
     ]
    }
   ],
   "source": [
    "# multiple except \n",
    "\n",
    "num1 = float(input(\"enter a number :\"))\n",
    "print(\"the entered value is \" , num1)\n",
    "try:\n",
    "    num2 = float(input(\"enter a number :\"))\n",
    "    print(\"the entered value is \" , num2)\n",
    "    value = num1/ num2\n",
    "    \n",
    "except (ZeroDivisionError, NameError , ValueError  ):\n",
    "    print(\"this function gives a zero division , Name error , Value error\")\n",
    "except ValueError:\n",
    "    print(\"you should provide a number\")\n",
    "except:\n",
    "    print(\"something went wrong\")\n",
    "else:\n",
    "    print(\"this process is running with value =\" ,value)\n",
    "finally:\n",
    "    print(\"this process is completed\")"
   ]
  },
  {
   "cell_type": "code",
   "execution_count": 20,
   "metadata": {},
   "outputs": [
    {
     "name": "stdout",
     "output_type": "stream",
     "text": [
      "the entered number  is 1005\n",
      "even or odd numbers higher than 1000 are not allowed\n",
      "the process is completed\n"
     ]
    }
   ],
   "source": [
    "# raising in exception \n",
    "num = int( input(\"enter the number  : \"))\n",
    "print(\"the entered number  is\", num) \n",
    "try:\n",
    "    if num > 1000 and num % 2 == 0 or num % 2 !=0:\n",
    "        raise Exception(\"do not allow to the even numbers higher than 1000\")\n",
    "except:\n",
    "    print(\"even or odd numbers higher than 1000 are not allowed\")\n",
    "else:\n",
    "    print(\"this process is running with the value = \" , num )\n",
    "finally:\n",
    "    print(\"the process is completed\")"
   ]
  },
  {
   "cell_type": "code",
   "execution_count": null,
   "metadata": {},
   "outputs": [],
   "source": [
    "# # raise ?\n",
    "# the raise is keyword in python is mainly used for excution handling . \n",
    "# exception handling handles Exception or error so that  the system does not \n",
    "# malfunction due to incorrect code "
   ]
  },
  {
   "cell_type": "markdown",
   "metadata": {},
   "source": [
    "# 11- Built_in Function In Python "
   ]
  },
  {
   "cell_type": "code",
   "execution_count": 21,
   "metadata": {},
   "outputs": [
    {
     "name": "stdout",
     "output_type": "stream",
     "text": [
      " entered the number is  -6\n",
      " entered the number is  -37.5\n",
      "the absolute  number  of the second number is  6\n",
      "the absolute  number  of the second number is  37.5\n",
      "the difference of two numbers   31.5\n"
     ]
    }
   ],
   "source": [
    "# abs()\n",
    "# return the absolute value  of a number \n",
    "num1 = int (input(\"enter the number :\"))\n",
    "print(\" entered the number is \" , num1)\n",
    "num2 = float(input(\"enter the number :\"))\n",
    "print(\" entered the number is \" , num2)\n",
    "print(\"the absolute  number  of the second number is \" , abs(num1))\n",
    "print(\"the absolute  number  of the second number is \" , abs(num2))\n",
    "print(\"the difference of two numbers  \" , abs(num1 - num2 ))"
   ]
  },
  {
   "cell_type": "code",
   "execution_count": 26,
   "metadata": {},
   "outputs": [
    {
     "name": "stdout",
     "output_type": "stream",
     "text": [
      "True\n",
      "[0.577, 3.14, 1.618, 6, 37, 28, 1729, 0]\n",
      "False\n",
      "[0.577, 3.14, 1.618, 6, 37, 28, 1729, 0, False]\n",
      "False\n",
      "[]\n",
      "True\n"
     ]
    }
   ],
   "source": [
    "#all ()\n",
    "# return true if all elements are passes itreable are true \n",
    "nlis = [ 0.577 , 3.14 , 1.618 , 6 ,37 , 28 ,1729]\n",
    "print(all(nlis))\n",
    "nlis.append(0)\n",
    "print(nlis)\n",
    "print(all(nlis))\n",
    "nlis.append(False) # adds false to the end of the list \n",
    "print(nlis)\n",
    "print(all(nlis))\n",
    "nlis.clear() # it return an empty list \n",
    "print(nlis)\n",
    "print(all(nlis))\n"
   ]
  },
  {
   "cell_type": "code",
   "execution_count": 27,
   "metadata": {},
   "outputs": [
    {
     "name": "stdout",
     "output_type": "stream",
     "text": [
      "the entered number is 34\n",
      "the binary representation of 34 is   0b100010\n"
     ]
    }
   ],
   "source": [
    "# bin ()\n",
    "# its return the binary representation of a specified integer \n",
    "num = int (input(\"enter a number :\"))\n",
    "print(f\"the entered number is {num}\")\n",
    "print(f\"the binary representation of {num} is   {bin(num)}\")"
   ]
  },
  {
   "cell_type": "code",
   "execution_count": 34,
   "metadata": {},
   "outputs": [
    {
     "name": "stdout",
     "output_type": "stream",
     "text": [
      "False False False\n",
      "True True True\n",
      "False\n",
      "True\n"
     ]
    }
   ],
   "source": [
    "# bool()\n",
    "# convert a value to boolean , namely true and false \n",
    "lis , dict , tuple =[],{} ,()\n",
    "print(bool(lis) ,bool(dict) , bool(tuple))\n",
    "lis , dict , tuple = [0] , {\"a\" : 1} , (1,)\n",
    "print(bool(lis) ,bool(dict) , bool(tuple))\n",
    "statement = None\n",
    "print(bool(None))\n",
    "true = True\n",
    "print(bool(true))"
   ]
  },
  {
   "cell_type": "code",
   "execution_count": 36,
   "metadata": {},
   "outputs": [
    {
     "name": "stdout",
     "output_type": "stream",
     "text": [
      "b'hello , Python '\n"
     ]
    }
   ],
   "source": [
    "# bytes()\n",
    "# return a bytes object \n",
    "msg = \"hello , Python \"\n",
    "new_msg=bytes(msg , \"utf-8\")\n",
    "print(new_msg)"
   ]
  },
  {
   "cell_type": "code",
   "execution_count": 39,
   "metadata": {},
   "outputs": [
    {
     "name": "stdout",
     "output_type": "stream",
     "text": [
      "False\n",
      "True\n"
     ]
    }
   ],
   "source": [
    "# callable \n",
    "# checks and return true if the object passed appears to the callable \n",
    "var = 3.14\n",
    "print(callable(var))\n",
    "# since the object does not appear callable , it returns false \n",
    "def function():\n",
    "    msg = \"hi python\"\n",
    "msg = function\n",
    "print(callable(msg))\n"
   ]
  },
  {
   "cell_type": "code",
   "execution_count": 41,
   "metadata": {},
   "outputs": [
    {
     "name": "stdout",
     "output_type": "stream",
     "text": [
      "B\n",
      "Y\n",
      "\n",
      "\u0003\n"
     ]
    }
   ],
   "source": [
    "# chr()\n",
    "# it return a character from the specified unicode code\n",
    "print(chr(66))\n",
    "print(chr(89))\n",
    "print(chr(132))\n",
    "print(chr(3))\n",
    "# the arugment must be interger if its not interger its give type error"
   ]
  },
  {
   "cell_type": "code",
   "execution_count": 43,
   "metadata": {},
   "outputs": [
    {
     "name": "stdout",
     "output_type": "stream",
     "text": [
      "<class 'code'>\n",
      "Result =  14.370000000000001\n"
     ]
    }
   ],
   "source": [
    "# compile \n",
    "# return a code object that can be subsequences  be excuted by exec() function\n",
    "code_line = 'x = 3.14\\ny=1.618\\nprint(\"Result = \" , 2*x+5*y )'\n",
    "code = compile(code_line , \"Result.py\" , \"exec\")\n",
    "print(type(code))\n",
    "exec(code)"
   ]
  },
  {
   "cell_type": "code",
   "execution_count": 44,
   "metadata": {},
   "outputs": [
    {
     "name": "stdout",
     "output_type": "stream",
     "text": [
      "True\n",
      "False\n",
      "5.8580000000000005\n"
     ]
    }
   ],
   "source": [
    "# exec()\n",
    "# its excutes the specified code or object \n",
    "var = 3.14\n",
    "exec(\"print(var==3.14)\")\n",
    "exec(\"print(var!=3.14)\")\n",
    "exec(\"print(var + 2.718)\")"
   ]
  },
  {
   "cell_type": "code",
   "execution_count": 63,
   "metadata": {},
   "outputs": [
    {
     "ename": "AttributeError",
     "evalue": "'SpecialNumbers' object has no attribute ' euler_number'",
     "output_type": "error",
     "traceback": [
      "\u001b[1;31m---------------------------------------------------------------------------\u001b[0m",
      "\u001b[1;31mAttributeError\u001b[0m                            Traceback (most recent call last)",
      "\u001b[1;32mc:\\Users\\MS\\Desktop\\python basic\\day_1.ipynb Cell 28\u001b[0m line \u001b[0;36m1\n\u001b[0;32m     <a href='vscode-notebook-cell:/c%3A/Users/MS/Desktop/python%20basic/day_1.ipynb#Y231sZmlsZQ%3D%3D?line=10'>11</a>\u001b[0m     msg \u001b[39m=\u001b[39m \u001b[39m\"\u001b[39m\u001b[39mthese number are special . \u001b[39m\u001b[39m\"\u001b[39m\n\u001b[0;32m     <a href='vscode-notebook-cell:/c%3A/Users/MS/Desktop/python%20basic/day_1.ipynb#Y231sZmlsZQ%3D%3D?line=11'>12</a>\u001b[0m special_numbers \u001b[39m=\u001b[39m SpecialNumbers()\n\u001b[1;32m---> <a href='vscode-notebook-cell:/c%3A/Users/MS/Desktop/python%20basic/day_1.ipynb#Y231sZmlsZQ%3D%3D?line=13'>14</a>\u001b[0m \u001b[39mprint\u001b[39m(\u001b[39m\"\u001b[39m\u001b[39m the euler number is \u001b[39m\u001b[39m\"\u001b[39m ,\u001b[39mgetattr\u001b[39;49m(special_numbers,\u001b[39m'\u001b[39;49m\u001b[39m euler_number\u001b[39;49m\u001b[39m'\u001b[39;49m ))\n\u001b[0;32m     <a href='vscode-notebook-cell:/c%3A/Users/MS/Desktop/python%20basic/day_1.ipynb#Y231sZmlsZQ%3D%3D?line=14'>15</a>\u001b[0m \u001b[39mprint\u001b[39m(\u001b[39m\"\u001b[39m\u001b[39mthe golden ratio is \u001b[39m\u001b[39m\"\u001b[39m , special_numbers\u001b[39m.\u001b[39mgolden_ratio)\n",
      "\u001b[1;31mAttributeError\u001b[0m: 'SpecialNumbers' object has no attribute ' euler_number'"
     ]
    }
   ],
   "source": [
    "# gerattr \n",
    "# it return the value of the specified attritube (property or method ) . if it is not found .\n",
    "# it returns the defualt value.\n",
    "\n",
    "\n",
    "class SpecialNumbers:\n",
    "    euler_constant = 0.577\n",
    "    euler_number = 2.718\n",
    "    pi = 3.14\n",
    "    golden_ratio = 1.618\n",
    "    msg = \"these number are special . \"\n",
    "special_numbers = SpecialNumbers()\n",
    "\n",
    "print(\" the euler number is \" ,getattr(special_numbers,' euler_number' ))\n",
    "print(\"the golden ratio is \" , special_numbers.golden_ratio)\n"
   ]
  },
  {
   "cell_type": "code",
   "execution_count": null,
   "metadata": {},
   "outputs": [],
   "source": [
    "#  pata nhi kis chz ka error hai special numbers ko define kya hoa to hai"
   ]
  },
  {
   "cell_type": "code",
   "execution_count": 71,
   "metadata": {},
   "outputs": [
    {
     "name": "stdout",
     "output_type": "stream",
     "text": [
      "0.577 2.718 1.618 3.14 these number are special . \n"
     ]
    },
    {
     "ename": "AttributeError",
     "evalue": "'SpecialNumbers' object has no attribute 'msg'",
     "output_type": "error",
     "traceback": [
      "\u001b[1;31m---------------------------------------------------------------------------\u001b[0m",
      "\u001b[1;31mAttributeError\u001b[0m                            Traceback (most recent call last)",
      "\u001b[1;32mc:\\Users\\MS\\Desktop\\python basic\\day_1.ipynb Cell 30\u001b[0m line \u001b[0;36m1\n\u001b[0;32m     <a href='vscode-notebook-cell:/c%3A/Users/MS/Desktop/python%20basic/day_1.ipynb#Y226sZmlsZQ%3D%3D?line=13'>14</a>\u001b[0m special_numbers\u001b[39m.\u001b[39mparameter()\n\u001b[0;32m     <a href='vscode-notebook-cell:/c%3A/Users/MS/Desktop/python%20basic/day_1.ipynb#Y226sZmlsZQ%3D%3D?line=14'>15</a>\u001b[0m \u001b[39mdelattr\u001b[39m(SpecialNumbers , \u001b[39m\"\u001b[39m\u001b[39mmsg\u001b[39m\u001b[39m\"\u001b[39m) \u001b[39m# this code deleted the msg\u001b[39;00m\n\u001b[1;32m---> <a href='vscode-notebook-cell:/c%3A/Users/MS/Desktop/python%20basic/day_1.ipynb#Y226sZmlsZQ%3D%3D?line=15'>16</a>\u001b[0m special_numbers\u001b[39m.\u001b[39;49mparameter() \u001b[39m# since the code deleted the msg , it return attribute error\u001b[39;00m\n",
      "\u001b[1;32mc:\\Users\\MS\\Desktop\\python basic\\day_1.ipynb Cell 30\u001b[0m line \u001b[0;36m1\n\u001b[0;32m     <a href='vscode-notebook-cell:/c%3A/Users/MS/Desktop/python%20basic/day_1.ipynb#Y226sZmlsZQ%3D%3D?line=9'>10</a>\u001b[0m \u001b[39mdef\u001b[39;00m \u001b[39mparameter\u001b[39m(\u001b[39mself\u001b[39m): \n\u001b[1;32m---> <a href='vscode-notebook-cell:/c%3A/Users/MS/Desktop/python%20basic/day_1.ipynb#Y226sZmlsZQ%3D%3D?line=10'>11</a>\u001b[0m     \u001b[39mprint\u001b[39m(\u001b[39mself\u001b[39m\u001b[39m.\u001b[39meuler_constant , \u001b[39mself\u001b[39m\u001b[39m.\u001b[39meuler_number ,\u001b[39mself\u001b[39m\u001b[39m.\u001b[39mgolden_ratio , \u001b[39mself\u001b[39m\u001b[39m.\u001b[39mpi ,\u001b[39mself\u001b[39;49m\u001b[39m.\u001b[39;49mmsg)\n",
      "\u001b[1;31mAttributeError\u001b[0m: 'SpecialNumbers' object has no attribute 'msg'"
     ]
    }
   ],
   "source": [
    "# delattr()\n",
    "# its deletes the specified attritube ( property , method) from the specified object \n",
    "\n",
    "class SpecialNumbers:\n",
    "    euler_constant = 0.577\n",
    "    euler_number = 2.718\n",
    "    pi = 3.14\n",
    "    golden_ratio = 1.618\n",
    "    msg = \"these number are special . \"\n",
    "    def parameter(self): \n",
    "        print(self.euler_constant , self.euler_number ,self.golden_ratio , self.pi ,self.msg)\n",
    "    \n",
    "special_numbers = SpecialNumbers()\n",
    "special_numbers.parameter()\n",
    "delattr(SpecialNumbers , \"msg\") # this code deleted the msg\n",
    "special_numbers.parameter() # since the code deleted the msg , it return attribute error\n",
    "\n"
   ]
  },
  {
   "cell_type": "code",
   "execution_count": 70,
   "metadata": {},
   "outputs": [
    {
     "ename": "TypeError",
     "evalue": "'dict' object is not callable",
     "output_type": "error",
     "traceback": [
      "\u001b[1;31m---------------------------------------------------------------------------\u001b[0m",
      "\u001b[1;31mTypeError\u001b[0m                                 Traceback (most recent call last)",
      "\u001b[1;32mc:\\Users\\MS\\Desktop\\python basic\\day_1.ipynb Cell 31\u001b[0m line \u001b[0;36m4\n\u001b[0;32m      <a href='vscode-notebook-cell:/c%3A/Users/MS/Desktop/python%20basic/day_1.ipynb#Y225sZmlsZQ%3D%3D?line=0'>1</a>\u001b[0m \u001b[39m# dict()\u001b[39;00m\n\u001b[0;32m      <a href='vscode-notebook-cell:/c%3A/Users/MS/Desktop/python%20basic/day_1.ipynb#Y225sZmlsZQ%3D%3D?line=1'>2</a>\u001b[0m \u001b[39m# it return a dictionary (array)\u001b[39;00m\n\u001b[1;32m----> <a href='vscode-notebook-cell:/c%3A/Users/MS/Desktop/python%20basic/day_1.ipynb#Y225sZmlsZQ%3D%3D?line=3'>4</a>\u001b[0m name \u001b[39m=\u001b[39m \u001b[39mdict\u001b[39;49m()\n\u001b[0;32m      <a href='vscode-notebook-cell:/c%3A/Users/MS/Desktop/python%20basic/day_1.ipynb#Y225sZmlsZQ%3D%3D?line=4'>5</a>\u001b[0m \u001b[39mprint\u001b[39m(name )\n\u001b[0;32m      <a href='vscode-notebook-cell:/c%3A/Users/MS/Desktop/python%20basic/day_1.ipynb#Y225sZmlsZQ%3D%3D?line=6'>7</a>\u001b[0m dictionary \u001b[39m=\u001b[39m \u001b[39mdict\u001b[39m(euler_constant  \u001b[39m=\u001b[39m \u001b[39m0.577\u001b[39m , euler_number \u001b[39m=\u001b[39m \u001b[39m2.718\u001b[39m, golden_ratio \u001b[39m=\u001b[39m \u001b[39m1.618\u001b[39m)\n",
      "\u001b[1;31mTypeError\u001b[0m: 'dict' object is not callable"
     ]
    }
   ],
   "source": [
    "# dict()\n",
    "# it return a dictionary (array)\n",
    "\n",
    "name = dict()\n",
    "print(name )\n",
    "\n",
    "dictionary = dict(euler_constant  = 0.577 , euler_number = 2.718, golden_ratio = 1.618)\n",
    "print(dictionary)\n"
   ]
  },
  {
   "cell_type": "code",
   "execution_count": 72,
   "metadata": {},
   "outputs": [
    {
     "name": "stdout",
     "output_type": "stream",
     "text": [
      "0 hello Python\n",
      "1 hello world\n"
     ]
    }
   ],
   "source": [
    "# enumerate ()\n",
    "# it takes a collection of tuoles and return it as an enumerate object \n",
    "\n",
    "str_list = ['hello Python' , 'hello world']\n",
    "for i ,str_list in enumerate(str_list):\n",
    "    print(i ,str_list)"
   ]
  },
  {
   "cell_type": "code",
   "execution_count": 75,
   "metadata": {},
   "outputs": [
    {
     "name": "stdout",
     "output_type": "stream",
     "text": [
      "[37, 1729]\n"
     ]
    }
   ],
   "source": [
    "# filter()\n",
    "# it exclude items in an iterable object \n",
    "def filtering(data):\n",
    "    if data > 30 :\n",
    "        return data \n",
    "data = [ 0.577 , 1.618 , 3.14 ,2.718, 6 ,28 ,37 ,1729]\n",
    "result = filter(filtering , data)\n",
    "print(list(result))"
   ]
  },
  {
   "cell_type": "code",
   "execution_count": 76,
   "metadata": {},
   "outputs": [
    {
     "data": {
      "text/plain": [
       "{'__name__': '__main__',\n",
       " '__doc__': 'Automatically created module for IPython interactive environment',\n",
       " '__package__': None,\n",
       " '__loader__': None,\n",
       " '__spec__': None,\n",
       " '__builtin__': <module 'builtins' (built-in)>,\n",
       " '__builtins__': <module 'builtins' (built-in)>,\n",
       " '_ih': ['',\n",
       "  '# zero division \\n# if a number is divide by 0 is give a zero division\\ntry:\\n 1/0\\nexcept ZeroDivisionError:\\n print(\" this code gives a zero division error\")\\nprint(1/0)',\n",
       "  '# zero division \\n# if a number is divide by 0 is give a zero division\\ntry:\\n 1/0\\nexcept ZeroDivisionError:\\n print(\" this code gives a zero division error\")\\nprint(1/0)',\n",
       "  '# the following code is like 1/0\\ntry:\\n    True/False\\nexcept ZeroDivisionError:\\n    print(\"this code give a zerodivisonerror\")\\nprint(True/False)',\n",
       "  '# name error\\nnlis = []\\ncount = 0\\ntry:\\n    mean = count/len(nlis)\\n    print(\"the mean value is \", mean)\\nexcept ZeroDivisionError:\\n    print(\"this code is give a zerodivisionerror\")\\nprint(mean)',\n",
       "  'try:\\n    y = x+5\\nexcept NameError:\\n    print(\"this give a name eror\")\\nprint(y)',\n",
       "  '# index error \\nnlis =[0.577 ,1.618 ,2.718 ,3.14 ,6, 28 , 37,1729]\\ntry:\\n    nlis[0]\\nexcept IndexError:\\n    print(\"this code gives us a indexError\")\\nprint(nlis[10])',\n",
       "  'tuple_sample =(0.577 ,1.618 ,2.718 ,3.14 ,6, 28 , 37,1729)\\ntry:\\n  tuple_sample [10]\\nexcept IndexError:\\n    print(\"this code gives us a indexError\")\\nprint(tuple_sample[10])',\n",
       "  '# key eror \\ndictonary = {\\'eular_constant\\':0.577 , \"golden_ratio\" : 1.618}\\ntry:\\n    dictonary = dictonary[\"eular_constant\"]\\nexcept KeyError:\\n    print(\"this code give us a key error\")\\ndictonary = dictonary[\"eular_constant\"]\\n\\nprint(dictonary)',\n",
       "  '# exception handling \\ntry:\\n    print(name)\\nexcept:\\n    print(\"since the variable name is not defined, the function gives a name error\")',\n",
       "  'num1 = float(input(\"enter a number :\"))\\nprint(\"the entered value is \" , num1)\\ntry:\\n    num2 = float(input(\"enter a number :\"))\\n    print(\"the entered value is \" , num2)\\n    value = num1/ num2\\n    print(\"this process is running with value =\" ,value)\\nexcept:\\n    print(\"this process is not running\")',\n",
       "  '# multiple except blocks\\nnum1 = float(input(\"enter a number :\"))\\nprint(\"the entered value is \" , num1)\\ntry:\\n    num2 = float(input(\"enter a number :\"))\\n    print(\"the entered value is \" , num2)\\n    value = num1/ num2\\n    print(\"this process is running with value =\" ,value)\\nexcept ZeroDivisionError:\\n    print(\"this function gives a zero division error since a number cannnot divided by 0\")\\nexcept ValueError:\\n    print(\"you should provide a number\")\\nexcept:\\n    print(\"something went wrong\")\\n    ',\n",
       "  '# try / except / else\\nnum1 = float(input(\"enter a number :\"))\\nprint(\"the entered value is \" , num1)\\ntry:\\n    num2 = float(input(\"enter a number :\"))\\n    print(\"the entered value is \" , num2)\\n    value = num1/ num2\\n    print(\"this process is running with value =\" ,value)\\nexcept ZeroDivisionError:\\n    print(\"this function gives a zero division error since a number cannnot divided by 0\")\\nexcept ValueError:\\n    print(\"you should provide a number\")\\nexcept:\\n    print(\"something went wrong\")\\nelse:\\n    print(\"this process is running with value =\" ,value)',\n",
       "  '# try / except / else\\nnum1 = float(input(\"enter a number :\"))\\nprint(\"the entered value is \" , num1)\\ntry:\\n    num2 = float(input(\"enter a number :\"))\\n    print(\"the entered value is \" , num2)\\n    value = num1/ num2\\n    print(\"this process is running with value =\" ,value)\\nexcept ZeroDivisionError:\\n    print(\"this function gives a zero division error since a number cannnot divided by 0\")\\nexcept ValueError:\\n    print(\"you should provide a number\")\\nexcept:\\n    print(\"something went wrong\")\\nelse:\\n    print(\"this process is running with value =\" ,value)',\n",
       "  '# try / except / else\\nnum1 = float(input(\"enter a number :\"))\\nprint(\"the entered value is \" , num1)\\ntry:\\n    num2 = float(input(\"enter a number :\"))\\n    print(\"the entered value is \" , num2)\\n    value = num1/ num2\\n    \\nexcept ZeroDivisionError:\\n    print(\"this function gives a zero division error since a number cannnot divided by 0\")\\nexcept ValueError:\\n    print(\"you should provide a number\")\\nexcept:\\n    print(\"something went wrong\")\\nelse:\\n    print(\"this process is running with value =\" ,value)',\n",
       "  '# try /except / else / finally \\nnum1 = float(input(\"enter a number :\"))\\nprint(\"the entered value is \" , num1)\\ntry:\\n    num2 = float(input(\"enter a number :\"))\\n    print(\"the entered value is \" , num2)\\n    value = num1/ num2\\n    \\nexcept ZeroDivisionError:\\n    print(\"this function gives a zero division error since a number cannnot divided by 0\")\\nexcept ValueError:\\n    print(\"you should provide a number\")\\nexcept:\\n    print(\"something went wrong\")\\nelse:\\n    print(\"this process is running with value =\" ,value)\\nfinally:\\n    print(\"this process is completed\")',\n",
       "  '# multiple except ',\n",
       "  '# multiple except \\n\\nnum1 = float(input(\"enter a number :\"))\\nprint(\"the entered value is \" , num1)\\ntry:\\n    num2 = float(input(\"enter a number :\"))\\n    print(\"the entered value is \" , num2)\\n    value = num1/ num2\\n    \\nexcept (ZeroDivisionError, NameError , ValueError  ):\\n    print(\"this function gives a zero division , Name error , Value error\")\\nexcept ValueError:\\n    print(\"you should provide a number\")\\nexcept:\\n    print(\"something went wrong\")\\nelse:\\n    print(\"this process is running with value =\" ,value)\\nfinally:\\n    print(\"this process is completed\")',\n",
       "  '# raising in exception \\nnum = int( input(\"enter the number  : \"))\\nprint(\"the entered number  is\", num) \\ntry:\\n    if num > 1000 and num % 2 == 0 or num % 2 !=0:\\n        raise Exception(\"do not allow to the even numbers higher than 1000\")\\nexcept:\\n    print(\"this process is running with the value = \" , num )\\nfinally:\\n    print(\"the process is completed\")',\n",
       "  '# raising in exception \\nnum = int( input(\"enter the number  : \"))\\nprint(\"the entered number  is\", num) \\ntry:\\n    if num > 1000 and num % 2 == 0 or num % 2 !=0:\\n        raise Exception(\"do not allow to the even numbers higher than 1000\")\\nexcept:\\n    print(\"this process is running with the value = \" , num )\\nfinally:\\n    print(\"the process is completed\")',\n",
       "  '# raising in exception \\nnum = int( input(\"enter the number  : \"))\\nprint(\"the entered number  is\", num) \\ntry:\\n    if num > 1000 and num % 2 == 0 or num % 2 !=0:\\n        raise Exception(\"do not allow to the even numbers higher than 1000\")\\nexcept:\\n    print(\"even or odd numbers higher than 1000 are not allowed\")\\nelse:\\n    print(\"this process is running with the value = \" , num )\\nfinally:\\n    print(\"the process is completed\")',\n",
       "  '# abs()\\n# return the absolute value  of a number \\nnum1 = int (input(\"enter the number :\"))\\nprint(\" entered the number is \" , num1)\\nnum2 = float(input(\"enter the number :\"))\\nprint(\" entered the number is \" , num2)\\nprint(\"the absolute  number  of the second number is \" , abs(num1))\\nprint(\"the absolute  number  of the second number is \" , abs(num2))\\nprint(\"the difference of two numbers  \" , abs(num1 - num2 ))',\n",
       "  '#all ()\\n# return true if all elements are passes itreable are true \\nnlis = [ 0.577 , 3.14 , 1.618 , 6 ,37 , 28 ,1729]\\nprint(all(nlis))',\n",
       "  '#all ()\\n# return true if all elements are passes itreable are true \\nnlis = [ 0.577 , 3.14 , 1.618 , 6 ,37 , 28 ,1729]\\nprint(all(nlis))\\nprint(nlis)',\n",
       "  '#all ()\\n# return true if all elements are passes itreable are true \\nnlis = [ 0.577 , 3.14 , 1.618 , 6 ,37 , 28 ,1729]\\nprint(all(nlis))\\nprint(nlis)\\nnlis.append(0)',\n",
       "  '#all ()\\n# return true if all elements are passes itreable are true \\nnlis = [ 0.577 , 3.14 , 1.618 , 6 ,37 , 28 ,1729]\\nprint(all(nlis))\\nnlis.append(0)\\nprint(nlis)\\nprint(all(nlis))\\nnlis.append(False)\\nprint(nlis<1)\\nprint(all(nlis))\\nnlis.clear()\\nprint(nlis)\\nprint(all(nlis))',\n",
       "  '#all ()\\n# return true if all elements are passes itreable are true \\nnlis = [ 0.577 , 3.14 , 1.618 , 6 ,37 , 28 ,1729]\\nprint(all(nlis))\\nnlis.append(0)\\nprint(nlis)\\nprint(all(nlis))\\nnlis.append(False)\\nprint(nlis)\\nprint(all(nlis))\\nnlis.clear()\\nprint(nlis)\\nprint(all(nlis))',\n",
       "  '# bin ()\\n# its return the binary representation of a specified integer \\nnum = int (input(\"enter a number :\"))\\nprint(f\"the entered number is {num}\")\\nprint(f\"the binary representation of {num} is   {bin(num)}\")',\n",
       "  '# bool()\\n# convert a value to boolean , namely true and false \\nlis , dict , tuple =[] ,{} ,()\\nprint(bool(lis)) ,bool(dict) , bool(tuple)',\n",
       "  '# bool()\\n# convert a value to boolean , namely true and false \\nlis , dict , tuple =[],{} ,()\\nprint(bool(lis)) ,bool(dict) , bool(tuple)',\n",
       "  '# bool()\\n# convert a value to boolean , namely true and false \\nlis , dict , tuple =[],{} ,()\\nprint(bool(lis)) ,bool(dict) , bool(tuple)\\nlis , dict , tuple = [0] , {\"a\" : 1} , (1,)',\n",
       "  '# bool()\\n# convert a value to boolean , namely true and false \\nlis , dict , tuple =[],{} ,()\\nprint(bool(lis) ,bool(dict) , bool(tuple))\\nlis , dict , tuple = [0] , {\"a\" : 1} , (1,)\\nprint(bool(lis) ,bool(dict) , bool(tuple))',\n",
       "  '# bool()\\n# convert a value to boolean , namely true and false \\nlis , dict , tuple =[],{} ,()\\nprint(bool(lis) ,bool(dict) , bool(tuple))\\nlis , dict , tuple = [0] , {\"a\" : 1} , (1,)\\nprint(bool(lis) ,bool(dict) , bool(tuple))\\nstatement = None\\nprint(bool(None))',\n",
       "  '# bool()\\n# convert a value to boolean , namely true and false \\nlis , dict , tuple =[],{} ,()\\nprint(bool(lis) ,bool(dict) , bool(tuple))\\nlis , dict , tuple = [0] , {\"a\" : 1} , (1,)\\nprint(bool(lis) ,bool(dict) , bool(tuple))\\nstatement = None\\nprint(bool(None))\\ntrue = True\\nprint(bool(True))',\n",
       "  '# bool()\\n# convert a value to boolean , namely true and false \\nlis , dict , tuple =[],{} ,()\\nprint(bool(lis) ,bool(dict) , bool(tuple))\\nlis , dict , tuple = [0] , {\"a\" : 1} , (1,)\\nprint(bool(lis) ,bool(dict) , bool(tuple))\\nstatement = None\\nprint(bool(None))\\ntrue = True\\nprint(bool(true))',\n",
       "  '# bytes()\\n# return a bytes object \\nmsg = \"hello , Python \"\\nnew_msg=bytes(msg , \"utf-8\")',\n",
       "  '# bytes()\\n# return a bytes object \\nmsg = \"hello , Python \"\\nnew_msg=bytes(msg , \"utf-8\")\\nprint(new_msg)',\n",
       "  '# callable \\n# checks and return true if the object passed appears to the callable \\nvar = 3.14\\nprint(callable(var))\\n# since the object does not appear callable , it returns false \\ndef funnction ():\\n    msg = \"hi python\"\\n    msg = function\\n    print(callable(msg))\\n    ',\n",
       "  '# callable \\n# checks and return true if the object passed appears to the callable \\nvar = 3.14\\nprint(callable(var))\\n# since the object does not appear callable , it returns false \\ndef funnction ():\\n    msg = \"hi python\"\\nmsg = function\\nprint(callable(msg))',\n",
       "  '# callable \\n# checks and return true if the object passed appears to the callable \\nvar = 3.14\\nprint(callable(var))\\n# since the object does not appear callable , it returns false \\ndef function():\\n    msg = \"hi python\"\\nmsg = function\\nprint(callable(msg))',\n",
       "  '# chr()\\n# it return a character from the specified unicode code\\nprint(chr(66))\\nprint(chr(89))',\n",
       "  '# chr()\\n# it return a character from the specified unicode code\\nprint(chr(66))\\nprint(chr(89))\\nprint(chr(132))\\nprint(chr(3))',\n",
       "  '# compile \\n# return a code object that can be subsequences  be excuted by exec() function\\ncode_line = \\'x = 3.14\\\\ny=1.618\\\\nprint(\"Result = \"2*x+5*y )\\'\\ncode = compile(code_line , \"Result.py\" , \"exec\")\\nprint(type(code))\\nexec(code)',\n",
       "  '# compile \\n# return a code object that can be subsequences  be excuted by exec() function\\ncode_line = \\'x = 3.14\\\\ny=1.618\\\\nprint(\"Result = \" , 2*x+5*y )\\'\\ncode = compile(code_line , \"Result.py\" , \"exec\")\\nprint(type(code))\\nexec(code)',\n",
       "  '# exec()\\n# its excutes the specified code or object \\nvar = 3.14\\nexec(\"print(var==3.14)\")\\nexec(\"print(var!=3.14)\")\\nexec(\"print(var + 2.718)\")',\n",
       "  '# gerattr \\n# it return the value of the specified attritube (property or method ) . if it is not found .\\n# it returns the defualt value.\\n\\n\\nclass SpecialNumbers:\\n    euler_constant = 0.577\\n    euler_number = 2.718\\n    pi = 3.14\\n    golden_ratio = 1.618\\n    msg = \"these number are special . \"\\nspecial_numbers = SpecialNumbers()\\nprint(\" the euler number is \" , getattr(special_numbers ,\"euler_ number \" ))\\nprint(\"the golden ratio is \" , special number.golden _ratio)',\n",
       "  '# gerattr \\n# it return the value of the specified attritube (property or method ) . if it is not found .\\n# it returns the defualt value.\\n\\n\\nclass SpecialNumbers:\\n    euler_constant = 0.577\\n    euler_number = 2.718\\n    pi = 3.14\\n    golden_ratio = 1.618\\n    msg = \"these number are special . \"\\nspecial_numbers = SpecialNumbers()\\nprint(\" the euler number is \" , getattr(special_numbers ,\"euler_ number \" ))\\nprint(\"the golden ratio is \" , special number,golden _ratio)',\n",
       "  '# gerattr \\n# it return the value of the specified attritube (property or method ) . if it is not found .\\n# it returns the defualt value.\\n\\n\\nclass SpecialNumbers:\\n    euler_constant = 0.577\\n    euler_number = 2.718\\n    pi = 3.14\\n    golden_ratio = 1.618\\n    msg = \"these number are special . \"\\nspecial_numbers = SpecialNumbers()\\nprint(\" the euler number is \" , getattr(special_numbers ,\"euler_ number \" ))\\nprint(\"the golden ratio is \" , specialnumbers .golden _ratio)',\n",
       "  '# gerattr \\n# it return the value of the specified attritube (property or method ) . if it is not found .\\n# it returns the defualt value.\\n\\n\\nclass SpecialNumbers:\\n    euler_constant = 0.577\\n    euler_number = 2.718\\n    pi = 3.14\\n    golden_ratio = 1.618\\n    msg = \"these number are special . \"\\nspecial_numbers = SpecialNumbers()\\nprint(\" the euler number is \" , getattr(special_numbers ,\"euler_ number \" ))\\nprint(\"the golden ratio is \" , special_numbers .golden _ratio)',\n",
       "  '# gerattr \\n# it return the value of the specified attritube (property or method ) . if it is not found .\\n# it returns the defualt value.\\n\\n\\nclass SpecialNumbers:\\n    euler_constant = 0.577\\n    euler_number = 2.718\\n    pi = 3.14\\n    golden_ratio = 1.618\\n    msg = \"these number are special . \"\\nspecial_numbers = SpecialNumbers()\\nprint(\" the euler number is \" , getattr(special_numbers ,\"euler_ number \" ))\\nprint(\"the golden ratio is \" , special_numbers .golden_ratio)',\n",
       "  '# gerattr \\n# it return the value of the specified attritube (property or method ) . if it is not found .\\n# it returns the defualt value.\\n\\n\\nclass SpecialNumbers:\\n    euler_constant = 0.577\\n    euler_number = 2.718\\n    pi = 3.14\\n    golden_ratio = 1.618\\n    msg = \"these number are special . \"\\nspecial_numbers = SpecialNumbers()\\nprint(\" the euler number is \" , getattr(special_numbers,\"euler_ number \" ))\\nprint(\"the golden ratio is \" , special_numbers.golden_ratio)',\n",
       "  '# gerattr \\n# it return the value of the specified attritube (property or method ) . if it is not found .\\n# it returns the defualt value.\\n\\n\\nclass SpecialNumbers:\\n    euler_constant = 0.577\\n    euler_number = 2.718\\n    pi = 3.14\\n    golden_ratio = 1.618\\n    msg = \"these number are special . \"\\n# special_numbers = SpecialNumbers()\\n# print(\" the euler number is \" , getattr(special_numbers,\"euler_ number \" ))\\n# print(\"the golden ratio is \" , special_numbers.golden_ratio)',\n",
       "  '# gerattr \\n# it return the value of the specified attritube (property or method ) . if it is not found .\\n# it returns the defualt value.\\n\\n\\nclass SpecialNumbers:\\n    euler_constant = 0.577\\n    euler_number = 2.718\\n    pi = 3.14\\n    golden_ratio = 1.618\\n    msg = \"these number are special . \"\\nspecial_numbers = SpecialNumbers()\\n# print(\" the euler number is \" , getattr(special_numbers,\"euler_ number \" ))\\n# print(\"the golden ratio is \" , special_numbers.golden_ratio)',\n",
       "  '# gerattr \\n# it return the value of the specified attritube (property or method ) . if it is not found .\\n# it returns the defualt value.\\n\\n\\nclass SpecialNumbers:\\n    euler_constant = 0.577\\n    euler_number = 2.718\\n    pi = 3.14\\n    golden_ratio = 1.618\\n    msg = \"these number are special . \"\\nspecial_numbers = SpecialNumbers()\\nprint(\" the euler number is \" , getattr(special_numbers,\"euler_ number \" ))\\nprint(\"the golden ratio is \" , special_numbers.golden_ratio)',\n",
       "  '# gerattr \\n# it return the value of the specified attritube (property or method ) . if it is not found .\\n# it returns the defualt value.\\n\\n\\nclass SpecialNumbers:\\n    euler_constant = 0.577\\n    euler_number = 2.718\\n    pi = 3.14\\n    golden_ratio = 1.618\\n    msg = \"these number are special . \"\\nspecial_numbers = SpecialNumbers()\\nprint(\" the euler number is \" , getattr(special_numbers,\"euler_ number \" ))\\n# print(\"the golden ratio is \" , special_numbers.golden_ratio)',\n",
       "  '# gerattr \\n# it return the value of the specified attritube (property or method ) . if it is not found .\\n# it returns the defualt value.\\n\\n\\nclass SpecialNumbers:\\n    euler_constant = 0.577\\n    euler_number = 2.718\\n    pi = 3.14\\n    golden_ratio = 1.618\\n    msg = \"these number are special . \"\\nspecial_numbers = SpecialNumbers()\\n# print(\" the euler number is \" , getattr(special_numbers,\"euler_ number \" ))\\nprint(\"the golden ratio is \" , special_numbers.golden_ratio)',\n",
       "  '# gerattr \\n# it return the value of the specified attritube (property or method ) . if it is not found .\\n# it returns the defualt value.\\n\\n\\nclass SpecialNumbers:\\n    euler_constant = 0.577\\n    euler_number = 2.718\\n    pi = 3.14\\n    golden_ratio = 1.618\\n    msg = \"these number are special . \"\\nspecial_numbers = SpecialNumbers()\\nprint(\" the euler number is \" , getattr(special_numbers,\\'euler_ number \\' ))\\nprint(\"the golden ratio is \" , special_numbers.golden_ratio)',\n",
       "  '# gerattr \\n# it return the value of the specified attritube (property or method ) . if it is not found .\\n# it returns the defualt value.\\n\\n\\nclass SpecialNumbers:\\n    euler_constant = 0.577\\n    euler_number = 2.718\\n    pi = 3.14\\n    golden_ratio = 1.618\\n    msg = \"these number are special . \"\\nspecial_numbers = SpecialNumbers()\\nprint(\" the euler number is \" , getattr(special_numbers,\\' euler_number\\' ))\\nprint(\"the golden ratio is \" , special_numbers.golden_ratio)',\n",
       "  '# gerattr \\n# it return the value of the specified attritube (property or method ) . if it is not found .\\n# it returns the defualt value.\\n\\n\\nclass SpecialNumbers:\\n    euler_constant = 0.577\\n    euler_number = 2.718\\n    pi = 3.14\\n    golden_ratio = 1.618\\n    msg = \"these number are special . \"\\nspecial_numbers = SpecialNumbers()\\nprint(\"the golden ratio is \" , special_numbers.golden_ratio)\\nprint(\" the euler number is \" ,getattr(special_numbers,\\' euler_number\\' ))',\n",
       "  '# delattr()\\n# its deletes the specified attritube ( property , method) from the specified object \\n\\nclass SpecialNumbers:\\n    euler_constant = 0.577\\n    euler_number = 2.718\\n    pi = 3.14\\n    golden_ratio = 1.618\\n    def parameter(self): \\n        print(self.euler_constant , self.euler_number ,self.golden_ratio , self.pi ,self.msg)\\n    msg = \"these number are special . \"\\nspecial_numbers = SpecialNumbers()\\nprint(\"the golden ratio is \" , special_numbers.golden_ratio)\\nprint(\" the euler number is \" ,getattr(special_numbers,\\' euler_number\\' ))',\n",
       "  '# delattr()\\n# its deletes the specified attritube ( property , method) from the specified object \\n\\nclass SpecialNumbers:\\n    euler_constant = 0.577\\n    euler_number = 2.718\\n    pi = 3.14\\n    golden_ratio = 1.618\\n    msg = \"these number are special . \"\\n    def parameter(self): \\n        print(self.euler_constant , self.euler_number ,self.golden_ratio , self.pi ,self.msg)\\n    \\nspecial_numbers = SpecialNumbers()\\nspecial_numbers.parameter()\\ndelattr(spSpecialNumbers , \"msg\") # this code deleted the msg\\nspecial_numbers.parameter() # since the code deleted the msg , it return attribute error',\n",
       "  '# gerattr \\n# it return the value of the specified attritube (property or method ) . if it is not found .\\n# it returns the defualt value.\\n\\n\\nclass SpecialNumbers:\\n    euler_constant = 0.577\\n    euler_number = 2.718\\n    pi = 3.14\\n    golden_ratio = 1.618\\n    msg = \"these number are special . \"\\nspecial_numbers = SpecialNumbers()\\nprint(\"the golden ratio is \" , SpecialNumbers.golden_ratio)\\nprint(\" the euler number is \" ,getattr(SpecialNumbers,\\' euler_number\\' ))',\n",
       "  '# gerattr \\n# it return the value of the specified attritube (property or method ) . if it is not found .\\n# it returns the defualt value.\\n\\n\\nclass SpecialNumbers:\\n    euler_constant = 0.577\\n    euler_number = 2.718\\n    pi = 3.14\\n    golden_ratio = 1.618\\n    msg = \"these number are special . \"\\nspecial_numbers = SpecialNumbers()\\n\\nprint(\" the euler number is \" ,getattr(SpecialNumbers,\\' euler_number\\' ))\\nprint(\"the golden ratio is \" , SpecialNumbers.golden_ratio)',\n",
       "  '# gerattr \\n# it return the value of the specified attritube (property or method ) . if it is not found .\\n# it returns the defualt value.\\n\\n\\nclass SpecialNumbers:\\n    euler_constant = 0.577\\n    euler_number = 2.718\\n    pi = 3.14\\n    golden_ratio = 1.618\\n    msg = \"these number are special . \"\\nspecial_numbers = SpecialNumbers()\\n\\nprint(\" the euler number is \" ,getattr(special_numbers,\\' euler_number\\' ))\\nprint(\"the golden ratio is \" , special_numbers.golden_ratio)',\n",
       "  '# dict()\\n# it return a dictionary (array)\\n\\nname = dict()\\nprint(name )\\n\\ndictionary = dict(euler_constant  = 0.577 , euler_number = 2.718, golden_ratio = 1.618)\\nprint(dictionary)',\n",
       "  '# dict()\\n# it return a dictionary (array)\\n\\nname = dict()\\nprint(\"name\")\\n\\ndictionary = dict(euler_constant  = 0.577 , euler_number = 2.718, golden_ratio = 1.618)\\nprint(dictionary)',\n",
       "  '# dict()\\n# it return a dictionary (array)\\n\\nname = dict()\\nprint(name )\\n\\ndictionary = dict(euler_constant  = 0.577 , euler_number = 2.718, golden_ratio = 1.618)\\nprint(dictionary)',\n",
       "  '# dict()\\n# it return a dictionary (array)\\n\\n# name = dict()\\n# print(name )\\n\\ndictionary = dict(euler_constant  = 0.577 , euler_number = 2.718, golden_ratio = 1.618)\\nprint(dictionary)',\n",
       "  '# dict()\\n# it return a dictionary (array)\\n\\n# name = dict()\\n# print(name )\\n\\ndictionary = dict(euler_constant  = 0.577 , euler_number = 2.718, golden_ratio = 1.618)\\nprint(dictionary)',\n",
       "  '# dict()\\n# it return a dictionary (array)\\n\\n# name = dict()\\n# print(name )\\n\\ndictionary = dict(euler_constant  = 0.577 , euler_number = 2.718, golden_ratio = 1.618)\\nprint(dictionary)',\n",
       "  '# dict()\\n# it return a dictionary (array)\\n\\nname = dict()\\nprint(name )\\n\\ndictionary = dict(euler_constant  = 0.577 , euler_number = 2.718, golden_ratio = 1.618)\\nprint(dictionary)',\n",
       "  '# delattr()\\n# its deletes the specified attritube ( property , method) from the specified object \\n\\nclass SpecialNumbers:\\n    euler_constant = 0.577\\n    euler_number = 2.718\\n    pi = 3.14\\n    golden_ratio = 1.618\\n    msg = \"these number are special . \"\\n    def parameter(self): \\n        print(self.euler_constant , self.euler_number ,self.golden_ratio , self.pi ,self.msg)\\n    \\nspecial_numbers = SpecialNumbers()\\nspecial_numbers.parameter()\\ndelattr(SpecialNumbers , \"msg\") # this code deleted the msg\\nspecial_numbers.parameter() # since the code deleted the msg , it return attribute error',\n",
       "  \"# enumerate ()\\n# it takes a collection of tuoles and return it as an enumerate object \\n\\nstr_list = ['hello Python' , 'hello world']\\nfor i ,str_list in enumerate(str_list):\\n    print(i ,str_list)\",\n",
       "  '# filter()\\n# it exclude items in an iterable object \\ndef filtering(data):\\n    if data > 30 :\\n        return data \\ndata = [ 0.577 , 1.618 , 3.14 .2.718, 6 ,28 ,37 ,1729]\\nresult = filter(filtering , data)\\nprint(lis(result))',\n",
       "  '# filter()\\n# it exclude items in an iterable object \\ndef filtering(data):\\n    if data > 30 :\\n        return data \\ndata = [ 0.577 , 1.618 , 3.14 ,2.718, 6 ,28 ,37 ,1729]\\nresult = filter(filtering , data)\\nprint(lis(result))',\n",
       "  '# filter()\\n# it exclude items in an iterable object \\ndef filtering(data):\\n    if data > 30 :\\n        return data \\ndata = [ 0.577 , 1.618 , 3.14 ,2.718, 6 ,28 ,37 ,1729]\\nresult = filter(filtering , data)\\nprint(list(result))',\n",
       "  '# globals()\\n#  it return  the current global symbol table as a dictionary \\n\\n\\nglobals()'],\n",
       " '_oh': {28: (None, False, False), 29: (None, False, False)},\n",
       " '_dh': [WindowsPath('c:/Users/MS/Desktop/python basic'),\n",
       "  WindowsPath('c:/Users/MS/Desktop/python basic')],\n",
       " 'In': ['',\n",
       "  '# zero division \\n# if a number is divide by 0 is give a zero division\\ntry:\\n 1/0\\nexcept ZeroDivisionError:\\n print(\" this code gives a zero division error\")\\nprint(1/0)',\n",
       "  '# zero division \\n# if a number is divide by 0 is give a zero division\\ntry:\\n 1/0\\nexcept ZeroDivisionError:\\n print(\" this code gives a zero division error\")\\nprint(1/0)',\n",
       "  '# the following code is like 1/0\\ntry:\\n    True/False\\nexcept ZeroDivisionError:\\n    print(\"this code give a zerodivisonerror\")\\nprint(True/False)',\n",
       "  '# name error\\nnlis = []\\ncount = 0\\ntry:\\n    mean = count/len(nlis)\\n    print(\"the mean value is \", mean)\\nexcept ZeroDivisionError:\\n    print(\"this code is give a zerodivisionerror\")\\nprint(mean)',\n",
       "  'try:\\n    y = x+5\\nexcept NameError:\\n    print(\"this give a name eror\")\\nprint(y)',\n",
       "  '# index error \\nnlis =[0.577 ,1.618 ,2.718 ,3.14 ,6, 28 , 37,1729]\\ntry:\\n    nlis[0]\\nexcept IndexError:\\n    print(\"this code gives us a indexError\")\\nprint(nlis[10])',\n",
       "  'tuple_sample =(0.577 ,1.618 ,2.718 ,3.14 ,6, 28 , 37,1729)\\ntry:\\n  tuple_sample [10]\\nexcept IndexError:\\n    print(\"this code gives us a indexError\")\\nprint(tuple_sample[10])',\n",
       "  '# key eror \\ndictonary = {\\'eular_constant\\':0.577 , \"golden_ratio\" : 1.618}\\ntry:\\n    dictonary = dictonary[\"eular_constant\"]\\nexcept KeyError:\\n    print(\"this code give us a key error\")\\ndictonary = dictonary[\"eular_constant\"]\\n\\nprint(dictonary)',\n",
       "  '# exception handling \\ntry:\\n    print(name)\\nexcept:\\n    print(\"since the variable name is not defined, the function gives a name error\")',\n",
       "  'num1 = float(input(\"enter a number :\"))\\nprint(\"the entered value is \" , num1)\\ntry:\\n    num2 = float(input(\"enter a number :\"))\\n    print(\"the entered value is \" , num2)\\n    value = num1/ num2\\n    print(\"this process is running with value =\" ,value)\\nexcept:\\n    print(\"this process is not running\")',\n",
       "  '# multiple except blocks\\nnum1 = float(input(\"enter a number :\"))\\nprint(\"the entered value is \" , num1)\\ntry:\\n    num2 = float(input(\"enter a number :\"))\\n    print(\"the entered value is \" , num2)\\n    value = num1/ num2\\n    print(\"this process is running with value =\" ,value)\\nexcept ZeroDivisionError:\\n    print(\"this function gives a zero division error since a number cannnot divided by 0\")\\nexcept ValueError:\\n    print(\"you should provide a number\")\\nexcept:\\n    print(\"something went wrong\")\\n    ',\n",
       "  '# try / except / else\\nnum1 = float(input(\"enter a number :\"))\\nprint(\"the entered value is \" , num1)\\ntry:\\n    num2 = float(input(\"enter a number :\"))\\n    print(\"the entered value is \" , num2)\\n    value = num1/ num2\\n    print(\"this process is running with value =\" ,value)\\nexcept ZeroDivisionError:\\n    print(\"this function gives a zero division error since a number cannnot divided by 0\")\\nexcept ValueError:\\n    print(\"you should provide a number\")\\nexcept:\\n    print(\"something went wrong\")\\nelse:\\n    print(\"this process is running with value =\" ,value)',\n",
       "  '# try / except / else\\nnum1 = float(input(\"enter a number :\"))\\nprint(\"the entered value is \" , num1)\\ntry:\\n    num2 = float(input(\"enter a number :\"))\\n    print(\"the entered value is \" , num2)\\n    value = num1/ num2\\n    print(\"this process is running with value =\" ,value)\\nexcept ZeroDivisionError:\\n    print(\"this function gives a zero division error since a number cannnot divided by 0\")\\nexcept ValueError:\\n    print(\"you should provide a number\")\\nexcept:\\n    print(\"something went wrong\")\\nelse:\\n    print(\"this process is running with value =\" ,value)',\n",
       "  '# try / except / else\\nnum1 = float(input(\"enter a number :\"))\\nprint(\"the entered value is \" , num1)\\ntry:\\n    num2 = float(input(\"enter a number :\"))\\n    print(\"the entered value is \" , num2)\\n    value = num1/ num2\\n    \\nexcept ZeroDivisionError:\\n    print(\"this function gives a zero division error since a number cannnot divided by 0\")\\nexcept ValueError:\\n    print(\"you should provide a number\")\\nexcept:\\n    print(\"something went wrong\")\\nelse:\\n    print(\"this process is running with value =\" ,value)',\n",
       "  '# try /except / else / finally \\nnum1 = float(input(\"enter a number :\"))\\nprint(\"the entered value is \" , num1)\\ntry:\\n    num2 = float(input(\"enter a number :\"))\\n    print(\"the entered value is \" , num2)\\n    value = num1/ num2\\n    \\nexcept ZeroDivisionError:\\n    print(\"this function gives a zero division error since a number cannnot divided by 0\")\\nexcept ValueError:\\n    print(\"you should provide a number\")\\nexcept:\\n    print(\"something went wrong\")\\nelse:\\n    print(\"this process is running with value =\" ,value)\\nfinally:\\n    print(\"this process is completed\")',\n",
       "  '# multiple except ',\n",
       "  '# multiple except \\n\\nnum1 = float(input(\"enter a number :\"))\\nprint(\"the entered value is \" , num1)\\ntry:\\n    num2 = float(input(\"enter a number :\"))\\n    print(\"the entered value is \" , num2)\\n    value = num1/ num2\\n    \\nexcept (ZeroDivisionError, NameError , ValueError  ):\\n    print(\"this function gives a zero division , Name error , Value error\")\\nexcept ValueError:\\n    print(\"you should provide a number\")\\nexcept:\\n    print(\"something went wrong\")\\nelse:\\n    print(\"this process is running with value =\" ,value)\\nfinally:\\n    print(\"this process is completed\")',\n",
       "  '# raising in exception \\nnum = int( input(\"enter the number  : \"))\\nprint(\"the entered number  is\", num) \\ntry:\\n    if num > 1000 and num % 2 == 0 or num % 2 !=0:\\n        raise Exception(\"do not allow to the even numbers higher than 1000\")\\nexcept:\\n    print(\"this process is running with the value = \" , num )\\nfinally:\\n    print(\"the process is completed\")',\n",
       "  '# raising in exception \\nnum = int( input(\"enter the number  : \"))\\nprint(\"the entered number  is\", num) \\ntry:\\n    if num > 1000 and num % 2 == 0 or num % 2 !=0:\\n        raise Exception(\"do not allow to the even numbers higher than 1000\")\\nexcept:\\n    print(\"this process is running with the value = \" , num )\\nfinally:\\n    print(\"the process is completed\")',\n",
       "  '# raising in exception \\nnum = int( input(\"enter the number  : \"))\\nprint(\"the entered number  is\", num) \\ntry:\\n    if num > 1000 and num % 2 == 0 or num % 2 !=0:\\n        raise Exception(\"do not allow to the even numbers higher than 1000\")\\nexcept:\\n    print(\"even or odd numbers higher than 1000 are not allowed\")\\nelse:\\n    print(\"this process is running with the value = \" , num )\\nfinally:\\n    print(\"the process is completed\")',\n",
       "  '# abs()\\n# return the absolute value  of a number \\nnum1 = int (input(\"enter the number :\"))\\nprint(\" entered the number is \" , num1)\\nnum2 = float(input(\"enter the number :\"))\\nprint(\" entered the number is \" , num2)\\nprint(\"the absolute  number  of the second number is \" , abs(num1))\\nprint(\"the absolute  number  of the second number is \" , abs(num2))\\nprint(\"the difference of two numbers  \" , abs(num1 - num2 ))',\n",
       "  '#all ()\\n# return true if all elements are passes itreable are true \\nnlis = [ 0.577 , 3.14 , 1.618 , 6 ,37 , 28 ,1729]\\nprint(all(nlis))',\n",
       "  '#all ()\\n# return true if all elements are passes itreable are true \\nnlis = [ 0.577 , 3.14 , 1.618 , 6 ,37 , 28 ,1729]\\nprint(all(nlis))\\nprint(nlis)',\n",
       "  '#all ()\\n# return true if all elements are passes itreable are true \\nnlis = [ 0.577 , 3.14 , 1.618 , 6 ,37 , 28 ,1729]\\nprint(all(nlis))\\nprint(nlis)\\nnlis.append(0)',\n",
       "  '#all ()\\n# return true if all elements are passes itreable are true \\nnlis = [ 0.577 , 3.14 , 1.618 , 6 ,37 , 28 ,1729]\\nprint(all(nlis))\\nnlis.append(0)\\nprint(nlis)\\nprint(all(nlis))\\nnlis.append(False)\\nprint(nlis<1)\\nprint(all(nlis))\\nnlis.clear()\\nprint(nlis)\\nprint(all(nlis))',\n",
       "  '#all ()\\n# return true if all elements are passes itreable are true \\nnlis = [ 0.577 , 3.14 , 1.618 , 6 ,37 , 28 ,1729]\\nprint(all(nlis))\\nnlis.append(0)\\nprint(nlis)\\nprint(all(nlis))\\nnlis.append(False)\\nprint(nlis)\\nprint(all(nlis))\\nnlis.clear()\\nprint(nlis)\\nprint(all(nlis))',\n",
       "  '# bin ()\\n# its return the binary representation of a specified integer \\nnum = int (input(\"enter a number :\"))\\nprint(f\"the entered number is {num}\")\\nprint(f\"the binary representation of {num} is   {bin(num)}\")',\n",
       "  '# bool()\\n# convert a value to boolean , namely true and false \\nlis , dict , tuple =[] ,{} ,()\\nprint(bool(lis)) ,bool(dict) , bool(tuple)',\n",
       "  '# bool()\\n# convert a value to boolean , namely true and false \\nlis , dict , tuple =[],{} ,()\\nprint(bool(lis)) ,bool(dict) , bool(tuple)',\n",
       "  '# bool()\\n# convert a value to boolean , namely true and false \\nlis , dict , tuple =[],{} ,()\\nprint(bool(lis)) ,bool(dict) , bool(tuple)\\nlis , dict , tuple = [0] , {\"a\" : 1} , (1,)',\n",
       "  '# bool()\\n# convert a value to boolean , namely true and false \\nlis , dict , tuple =[],{} ,()\\nprint(bool(lis) ,bool(dict) , bool(tuple))\\nlis , dict , tuple = [0] , {\"a\" : 1} , (1,)\\nprint(bool(lis) ,bool(dict) , bool(tuple))',\n",
       "  '# bool()\\n# convert a value to boolean , namely true and false \\nlis , dict , tuple =[],{} ,()\\nprint(bool(lis) ,bool(dict) , bool(tuple))\\nlis , dict , tuple = [0] , {\"a\" : 1} , (1,)\\nprint(bool(lis) ,bool(dict) , bool(tuple))\\nstatement = None\\nprint(bool(None))',\n",
       "  '# bool()\\n# convert a value to boolean , namely true and false \\nlis , dict , tuple =[],{} ,()\\nprint(bool(lis) ,bool(dict) , bool(tuple))\\nlis , dict , tuple = [0] , {\"a\" : 1} , (1,)\\nprint(bool(lis) ,bool(dict) , bool(tuple))\\nstatement = None\\nprint(bool(None))\\ntrue = True\\nprint(bool(True))',\n",
       "  '# bool()\\n# convert a value to boolean , namely true and false \\nlis , dict , tuple =[],{} ,()\\nprint(bool(lis) ,bool(dict) , bool(tuple))\\nlis , dict , tuple = [0] , {\"a\" : 1} , (1,)\\nprint(bool(lis) ,bool(dict) , bool(tuple))\\nstatement = None\\nprint(bool(None))\\ntrue = True\\nprint(bool(true))',\n",
       "  '# bytes()\\n# return a bytes object \\nmsg = \"hello , Python \"\\nnew_msg=bytes(msg , \"utf-8\")',\n",
       "  '# bytes()\\n# return a bytes object \\nmsg = \"hello , Python \"\\nnew_msg=bytes(msg , \"utf-8\")\\nprint(new_msg)',\n",
       "  '# callable \\n# checks and return true if the object passed appears to the callable \\nvar = 3.14\\nprint(callable(var))\\n# since the object does not appear callable , it returns false \\ndef funnction ():\\n    msg = \"hi python\"\\n    msg = function\\n    print(callable(msg))\\n    ',\n",
       "  '# callable \\n# checks and return true if the object passed appears to the callable \\nvar = 3.14\\nprint(callable(var))\\n# since the object does not appear callable , it returns false \\ndef funnction ():\\n    msg = \"hi python\"\\nmsg = function\\nprint(callable(msg))',\n",
       "  '# callable \\n# checks and return true if the object passed appears to the callable \\nvar = 3.14\\nprint(callable(var))\\n# since the object does not appear callable , it returns false \\ndef function():\\n    msg = \"hi python\"\\nmsg = function\\nprint(callable(msg))',\n",
       "  '# chr()\\n# it return a character from the specified unicode code\\nprint(chr(66))\\nprint(chr(89))',\n",
       "  '# chr()\\n# it return a character from the specified unicode code\\nprint(chr(66))\\nprint(chr(89))\\nprint(chr(132))\\nprint(chr(3))',\n",
       "  '# compile \\n# return a code object that can be subsequences  be excuted by exec() function\\ncode_line = \\'x = 3.14\\\\ny=1.618\\\\nprint(\"Result = \"2*x+5*y )\\'\\ncode = compile(code_line , \"Result.py\" , \"exec\")\\nprint(type(code))\\nexec(code)',\n",
       "  '# compile \\n# return a code object that can be subsequences  be excuted by exec() function\\ncode_line = \\'x = 3.14\\\\ny=1.618\\\\nprint(\"Result = \" , 2*x+5*y )\\'\\ncode = compile(code_line , \"Result.py\" , \"exec\")\\nprint(type(code))\\nexec(code)',\n",
       "  '# exec()\\n# its excutes the specified code or object \\nvar = 3.14\\nexec(\"print(var==3.14)\")\\nexec(\"print(var!=3.14)\")\\nexec(\"print(var + 2.718)\")',\n",
       "  '# gerattr \\n# it return the value of the specified attritube (property or method ) . if it is not found .\\n# it returns the defualt value.\\n\\n\\nclass SpecialNumbers:\\n    euler_constant = 0.577\\n    euler_number = 2.718\\n    pi = 3.14\\n    golden_ratio = 1.618\\n    msg = \"these number are special . \"\\nspecial_numbers = SpecialNumbers()\\nprint(\" the euler number is \" , getattr(special_numbers ,\"euler_ number \" ))\\nprint(\"the golden ratio is \" , special number.golden _ratio)',\n",
       "  '# gerattr \\n# it return the value of the specified attritube (property or method ) . if it is not found .\\n# it returns the defualt value.\\n\\n\\nclass SpecialNumbers:\\n    euler_constant = 0.577\\n    euler_number = 2.718\\n    pi = 3.14\\n    golden_ratio = 1.618\\n    msg = \"these number are special . \"\\nspecial_numbers = SpecialNumbers()\\nprint(\" the euler number is \" , getattr(special_numbers ,\"euler_ number \" ))\\nprint(\"the golden ratio is \" , special number,golden _ratio)',\n",
       "  '# gerattr \\n# it return the value of the specified attritube (property or method ) . if it is not found .\\n# it returns the defualt value.\\n\\n\\nclass SpecialNumbers:\\n    euler_constant = 0.577\\n    euler_number = 2.718\\n    pi = 3.14\\n    golden_ratio = 1.618\\n    msg = \"these number are special . \"\\nspecial_numbers = SpecialNumbers()\\nprint(\" the euler number is \" , getattr(special_numbers ,\"euler_ number \" ))\\nprint(\"the golden ratio is \" , specialnumbers .golden _ratio)',\n",
       "  '# gerattr \\n# it return the value of the specified attritube (property or method ) . if it is not found .\\n# it returns the defualt value.\\n\\n\\nclass SpecialNumbers:\\n    euler_constant = 0.577\\n    euler_number = 2.718\\n    pi = 3.14\\n    golden_ratio = 1.618\\n    msg = \"these number are special . \"\\nspecial_numbers = SpecialNumbers()\\nprint(\" the euler number is \" , getattr(special_numbers ,\"euler_ number \" ))\\nprint(\"the golden ratio is \" , special_numbers .golden _ratio)',\n",
       "  '# gerattr \\n# it return the value of the specified attritube (property or method ) . if it is not found .\\n# it returns the defualt value.\\n\\n\\nclass SpecialNumbers:\\n    euler_constant = 0.577\\n    euler_number = 2.718\\n    pi = 3.14\\n    golden_ratio = 1.618\\n    msg = \"these number are special . \"\\nspecial_numbers = SpecialNumbers()\\nprint(\" the euler number is \" , getattr(special_numbers ,\"euler_ number \" ))\\nprint(\"the golden ratio is \" , special_numbers .golden_ratio)',\n",
       "  '# gerattr \\n# it return the value of the specified attritube (property or method ) . if it is not found .\\n# it returns the defualt value.\\n\\n\\nclass SpecialNumbers:\\n    euler_constant = 0.577\\n    euler_number = 2.718\\n    pi = 3.14\\n    golden_ratio = 1.618\\n    msg = \"these number are special . \"\\nspecial_numbers = SpecialNumbers()\\nprint(\" the euler number is \" , getattr(special_numbers,\"euler_ number \" ))\\nprint(\"the golden ratio is \" , special_numbers.golden_ratio)',\n",
       "  '# gerattr \\n# it return the value of the specified attritube (property or method ) . if it is not found .\\n# it returns the defualt value.\\n\\n\\nclass SpecialNumbers:\\n    euler_constant = 0.577\\n    euler_number = 2.718\\n    pi = 3.14\\n    golden_ratio = 1.618\\n    msg = \"these number are special . \"\\n# special_numbers = SpecialNumbers()\\n# print(\" the euler number is \" , getattr(special_numbers,\"euler_ number \" ))\\n# print(\"the golden ratio is \" , special_numbers.golden_ratio)',\n",
       "  '# gerattr \\n# it return the value of the specified attritube (property or method ) . if it is not found .\\n# it returns the defualt value.\\n\\n\\nclass SpecialNumbers:\\n    euler_constant = 0.577\\n    euler_number = 2.718\\n    pi = 3.14\\n    golden_ratio = 1.618\\n    msg = \"these number are special . \"\\nspecial_numbers = SpecialNumbers()\\n# print(\" the euler number is \" , getattr(special_numbers,\"euler_ number \" ))\\n# print(\"the golden ratio is \" , special_numbers.golden_ratio)',\n",
       "  '# gerattr \\n# it return the value of the specified attritube (property or method ) . if it is not found .\\n# it returns the defualt value.\\n\\n\\nclass SpecialNumbers:\\n    euler_constant = 0.577\\n    euler_number = 2.718\\n    pi = 3.14\\n    golden_ratio = 1.618\\n    msg = \"these number are special . \"\\nspecial_numbers = SpecialNumbers()\\nprint(\" the euler number is \" , getattr(special_numbers,\"euler_ number \" ))\\nprint(\"the golden ratio is \" , special_numbers.golden_ratio)',\n",
       "  '# gerattr \\n# it return the value of the specified attritube (property or method ) . if it is not found .\\n# it returns the defualt value.\\n\\n\\nclass SpecialNumbers:\\n    euler_constant = 0.577\\n    euler_number = 2.718\\n    pi = 3.14\\n    golden_ratio = 1.618\\n    msg = \"these number are special . \"\\nspecial_numbers = SpecialNumbers()\\nprint(\" the euler number is \" , getattr(special_numbers,\"euler_ number \" ))\\n# print(\"the golden ratio is \" , special_numbers.golden_ratio)',\n",
       "  '# gerattr \\n# it return the value of the specified attritube (property or method ) . if it is not found .\\n# it returns the defualt value.\\n\\n\\nclass SpecialNumbers:\\n    euler_constant = 0.577\\n    euler_number = 2.718\\n    pi = 3.14\\n    golden_ratio = 1.618\\n    msg = \"these number are special . \"\\nspecial_numbers = SpecialNumbers()\\n# print(\" the euler number is \" , getattr(special_numbers,\"euler_ number \" ))\\nprint(\"the golden ratio is \" , special_numbers.golden_ratio)',\n",
       "  '# gerattr \\n# it return the value of the specified attritube (property or method ) . if it is not found .\\n# it returns the defualt value.\\n\\n\\nclass SpecialNumbers:\\n    euler_constant = 0.577\\n    euler_number = 2.718\\n    pi = 3.14\\n    golden_ratio = 1.618\\n    msg = \"these number are special . \"\\nspecial_numbers = SpecialNumbers()\\nprint(\" the euler number is \" , getattr(special_numbers,\\'euler_ number \\' ))\\nprint(\"the golden ratio is \" , special_numbers.golden_ratio)',\n",
       "  '# gerattr \\n# it return the value of the specified attritube (property or method ) . if it is not found .\\n# it returns the defualt value.\\n\\n\\nclass SpecialNumbers:\\n    euler_constant = 0.577\\n    euler_number = 2.718\\n    pi = 3.14\\n    golden_ratio = 1.618\\n    msg = \"these number are special . \"\\nspecial_numbers = SpecialNumbers()\\nprint(\" the euler number is \" , getattr(special_numbers,\\' euler_number\\' ))\\nprint(\"the golden ratio is \" , special_numbers.golden_ratio)',\n",
       "  '# gerattr \\n# it return the value of the specified attritube (property or method ) . if it is not found .\\n# it returns the defualt value.\\n\\n\\nclass SpecialNumbers:\\n    euler_constant = 0.577\\n    euler_number = 2.718\\n    pi = 3.14\\n    golden_ratio = 1.618\\n    msg = \"these number are special . \"\\nspecial_numbers = SpecialNumbers()\\nprint(\"the golden ratio is \" , special_numbers.golden_ratio)\\nprint(\" the euler number is \" ,getattr(special_numbers,\\' euler_number\\' ))',\n",
       "  '# delattr()\\n# its deletes the specified attritube ( property , method) from the specified object \\n\\nclass SpecialNumbers:\\n    euler_constant = 0.577\\n    euler_number = 2.718\\n    pi = 3.14\\n    golden_ratio = 1.618\\n    def parameter(self): \\n        print(self.euler_constant , self.euler_number ,self.golden_ratio , self.pi ,self.msg)\\n    msg = \"these number are special . \"\\nspecial_numbers = SpecialNumbers()\\nprint(\"the golden ratio is \" , special_numbers.golden_ratio)\\nprint(\" the euler number is \" ,getattr(special_numbers,\\' euler_number\\' ))',\n",
       "  '# delattr()\\n# its deletes the specified attritube ( property , method) from the specified object \\n\\nclass SpecialNumbers:\\n    euler_constant = 0.577\\n    euler_number = 2.718\\n    pi = 3.14\\n    golden_ratio = 1.618\\n    msg = \"these number are special . \"\\n    def parameter(self): \\n        print(self.euler_constant , self.euler_number ,self.golden_ratio , self.pi ,self.msg)\\n    \\nspecial_numbers = SpecialNumbers()\\nspecial_numbers.parameter()\\ndelattr(spSpecialNumbers , \"msg\") # this code deleted the msg\\nspecial_numbers.parameter() # since the code deleted the msg , it return attribute error',\n",
       "  '# gerattr \\n# it return the value of the specified attritube (property or method ) . if it is not found .\\n# it returns the defualt value.\\n\\n\\nclass SpecialNumbers:\\n    euler_constant = 0.577\\n    euler_number = 2.718\\n    pi = 3.14\\n    golden_ratio = 1.618\\n    msg = \"these number are special . \"\\nspecial_numbers = SpecialNumbers()\\nprint(\"the golden ratio is \" , SpecialNumbers.golden_ratio)\\nprint(\" the euler number is \" ,getattr(SpecialNumbers,\\' euler_number\\' ))',\n",
       "  '# gerattr \\n# it return the value of the specified attritube (property or method ) . if it is not found .\\n# it returns the defualt value.\\n\\n\\nclass SpecialNumbers:\\n    euler_constant = 0.577\\n    euler_number = 2.718\\n    pi = 3.14\\n    golden_ratio = 1.618\\n    msg = \"these number are special . \"\\nspecial_numbers = SpecialNumbers()\\n\\nprint(\" the euler number is \" ,getattr(SpecialNumbers,\\' euler_number\\' ))\\nprint(\"the golden ratio is \" , SpecialNumbers.golden_ratio)',\n",
       "  '# gerattr \\n# it return the value of the specified attritube (property or method ) . if it is not found .\\n# it returns the defualt value.\\n\\n\\nclass SpecialNumbers:\\n    euler_constant = 0.577\\n    euler_number = 2.718\\n    pi = 3.14\\n    golden_ratio = 1.618\\n    msg = \"these number are special . \"\\nspecial_numbers = SpecialNumbers()\\n\\nprint(\" the euler number is \" ,getattr(special_numbers,\\' euler_number\\' ))\\nprint(\"the golden ratio is \" , special_numbers.golden_ratio)',\n",
       "  '# dict()\\n# it return a dictionary (array)\\n\\nname = dict()\\nprint(name )\\n\\ndictionary = dict(euler_constant  = 0.577 , euler_number = 2.718, golden_ratio = 1.618)\\nprint(dictionary)',\n",
       "  '# dict()\\n# it return a dictionary (array)\\n\\nname = dict()\\nprint(\"name\")\\n\\ndictionary = dict(euler_constant  = 0.577 , euler_number = 2.718, golden_ratio = 1.618)\\nprint(dictionary)',\n",
       "  '# dict()\\n# it return a dictionary (array)\\n\\nname = dict()\\nprint(name )\\n\\ndictionary = dict(euler_constant  = 0.577 , euler_number = 2.718, golden_ratio = 1.618)\\nprint(dictionary)',\n",
       "  '# dict()\\n# it return a dictionary (array)\\n\\n# name = dict()\\n# print(name )\\n\\ndictionary = dict(euler_constant  = 0.577 , euler_number = 2.718, golden_ratio = 1.618)\\nprint(dictionary)',\n",
       "  '# dict()\\n# it return a dictionary (array)\\n\\n# name = dict()\\n# print(name )\\n\\ndictionary = dict(euler_constant  = 0.577 , euler_number = 2.718, golden_ratio = 1.618)\\nprint(dictionary)',\n",
       "  '# dict()\\n# it return a dictionary (array)\\n\\n# name = dict()\\n# print(name )\\n\\ndictionary = dict(euler_constant  = 0.577 , euler_number = 2.718, golden_ratio = 1.618)\\nprint(dictionary)',\n",
       "  '# dict()\\n# it return a dictionary (array)\\n\\nname = dict()\\nprint(name )\\n\\ndictionary = dict(euler_constant  = 0.577 , euler_number = 2.718, golden_ratio = 1.618)\\nprint(dictionary)',\n",
       "  '# delattr()\\n# its deletes the specified attritube ( property , method) from the specified object \\n\\nclass SpecialNumbers:\\n    euler_constant = 0.577\\n    euler_number = 2.718\\n    pi = 3.14\\n    golden_ratio = 1.618\\n    msg = \"these number are special . \"\\n    def parameter(self): \\n        print(self.euler_constant , self.euler_number ,self.golden_ratio , self.pi ,self.msg)\\n    \\nspecial_numbers = SpecialNumbers()\\nspecial_numbers.parameter()\\ndelattr(SpecialNumbers , \"msg\") # this code deleted the msg\\nspecial_numbers.parameter() # since the code deleted the msg , it return attribute error',\n",
       "  \"# enumerate ()\\n# it takes a collection of tuoles and return it as an enumerate object \\n\\nstr_list = ['hello Python' , 'hello world']\\nfor i ,str_list in enumerate(str_list):\\n    print(i ,str_list)\",\n",
       "  '# filter()\\n# it exclude items in an iterable object \\ndef filtering(data):\\n    if data > 30 :\\n        return data \\ndata = [ 0.577 , 1.618 , 3.14 .2.718, 6 ,28 ,37 ,1729]\\nresult = filter(filtering , data)\\nprint(lis(result))',\n",
       "  '# filter()\\n# it exclude items in an iterable object \\ndef filtering(data):\\n    if data > 30 :\\n        return data \\ndata = [ 0.577 , 1.618 , 3.14 ,2.718, 6 ,28 ,37 ,1729]\\nresult = filter(filtering , data)\\nprint(lis(result))',\n",
       "  '# filter()\\n# it exclude items in an iterable object \\ndef filtering(data):\\n    if data > 30 :\\n        return data \\ndata = [ 0.577 , 1.618 , 3.14 ,2.718, 6 ,28 ,37 ,1729]\\nresult = filter(filtering , data)\\nprint(list(result))',\n",
       "  '# globals()\\n#  it return  the current global symbol table as a dictionary \\n\\n\\nglobals()'],\n",
       " 'Out': {28: (None, False, False), 29: (None, False, False)},\n",
       " 'get_ipython': <bound method InteractiveShell.get_ipython of <ipykernel.zmqshell.ZMQInteractiveShell object at 0x000002A129326450>>,\n",
       " 'exit': <IPython.core.autocall.ZMQExitAutocall at 0x2a129356410>,\n",
       " 'quit': <IPython.core.autocall.ZMQExitAutocall at 0x2a129356410>,\n",
       " 'open': <function io.open(file, mode='r', buffering=-1, encoding=None, errors=None, newline=None, closefd=True, opener=None)>,\n",
       " '_': (None, False, False),\n",
       " '__': (None, False, False),\n",
       " '___': '',\n",
       " '__vsc_ipynb_file__': 'c:\\\\Users\\\\MS\\\\Desktop\\\\python basic\\\\day_1.ipynb',\n",
       " '_i': '# filter()\\n# it exclude items in an iterable object \\ndef filtering(data):\\n    if data > 30 :\\n        return data \\ndata = [ 0.577 , 1.618 , 3.14 ,2.718, 6 ,28 ,37 ,1729]\\nresult = filter(filtering , data)\\nprint(list(result))',\n",
       " '_ii': '# filter()\\n# it exclude items in an iterable object \\ndef filtering(data):\\n    if data > 30 :\\n        return data \\ndata = [ 0.577 , 1.618 , 3.14 ,2.718, 6 ,28 ,37 ,1729]\\nresult = filter(filtering , data)\\nprint(lis(result))',\n",
       " '_iii': '# filter()\\n# it exclude items in an iterable object \\ndef filtering(data):\\n    if data > 30 :\\n        return data \\ndata = [ 0.577 , 1.618 , 3.14 .2.718, 6 ,28 ,37 ,1729]\\nresult = filter(filtering , data)\\nprint(lis(result))',\n",
       " '_i1': '# zero division \\n# if a number is divide by 0 is give a zero division\\ntry:\\n 1/0\\nexcept ZeroDivisionError:\\n print(\" this code gives a zero division error\")\\nprint(1/0)',\n",
       " '_i2': '# zero division \\n# if a number is divide by 0 is give a zero division\\ntry:\\n 1/0\\nexcept ZeroDivisionError:\\n print(\" this code gives a zero division error\")\\nprint(1/0)',\n",
       " '_i3': '# the following code is like 1/0\\ntry:\\n    True/False\\nexcept ZeroDivisionError:\\n    print(\"this code give a zerodivisonerror\")\\nprint(True/False)',\n",
       " '_i4': '# name error\\nnlis = []\\ncount = 0\\ntry:\\n    mean = count/len(nlis)\\n    print(\"the mean value is \", mean)\\nexcept ZeroDivisionError:\\n    print(\"this code is give a zerodivisionerror\")\\nprint(mean)',\n",
       " 'nlis': [],\n",
       " 'count': 0,\n",
       " '_i5': 'try:\\n    y = x+5\\nexcept NameError:\\n    print(\"this give a name eror\")\\nprint(y)',\n",
       " '_i6': '# index error \\nnlis =[0.577 ,1.618 ,2.718 ,3.14 ,6, 28 , 37,1729]\\ntry:\\n    nlis[0]\\nexcept IndexError:\\n    print(\"this code gives us a indexError\")\\nprint(nlis[10])',\n",
       " '_i7': 'tuple_sample =(0.577 ,1.618 ,2.718 ,3.14 ,6, 28 , 37,1729)\\ntry:\\n  tuple_sample [10]\\nexcept IndexError:\\n    print(\"this code gives us a indexError\")\\nprint(tuple_sample[10])',\n",
       " 'tuple_sample': (0.577, 1.618, 2.718, 3.14, 6, 28, 37, 1729),\n",
       " '_i8': '# key eror \\ndictonary = {\\'eular_constant\\':0.577 , \"golden_ratio\" : 1.618}\\ntry:\\n    dictonary = dictonary[\"eular_constant\"]\\nexcept KeyError:\\n    print(\"this code give us a key error\")\\ndictonary = dictonary[\"eular_constant\"]\\n\\nprint(dictonary)',\n",
       " 'dictonary': 0.577,\n",
       " '_i9': '# exception handling \\ntry:\\n    print(name)\\nexcept:\\n    print(\"since the variable name is not defined, the function gives a name error\")',\n",
       " '_i10': 'num1 = float(input(\"enter a number :\"))\\nprint(\"the entered value is \" , num1)\\ntry:\\n    num2 = float(input(\"enter a number :\"))\\n    print(\"the entered value is \" , num2)\\n    value = num1/ num2\\n    print(\"this process is running with value =\" ,value)\\nexcept:\\n    print(\"this process is not running\")',\n",
       " 'num1': -6,\n",
       " 'num2': -37.5,\n",
       " 'value': 0.9955357142857144,\n",
       " '_i11': '# multiple except blocks\\nnum1 = float(input(\"enter a number :\"))\\nprint(\"the entered value is \" , num1)\\ntry:\\n    num2 = float(input(\"enter a number :\"))\\n    print(\"the entered value is \" , num2)\\n    value = num1/ num2\\n    print(\"this process is running with value =\" ,value)\\nexcept ZeroDivisionError:\\n    print(\"this function gives a zero division error since a number cannnot divided by 0\")\\nexcept ValueError:\\n    print(\"you should provide a number\")\\nexcept:\\n    print(\"something went wrong\")\\n    ',\n",
       " '_i12': '# try / except / else\\nnum1 = float(input(\"enter a number :\"))\\nprint(\"the entered value is \" , num1)\\ntry:\\n    num2 = float(input(\"enter a number :\"))\\n    print(\"the entered value is \" , num2)\\n    value = num1/ num2\\n    print(\"this process is running with value =\" ,value)\\nexcept ZeroDivisionError:\\n    print(\"this function gives a zero division error since a number cannnot divided by 0\")\\nexcept ValueError:\\n    print(\"you should provide a number\")\\nexcept:\\n    print(\"something went wrong\")\\nelse:\\n    print(\"this process is running with value =\" ,value)',\n",
       " '_i13': '# try / except / else\\nnum1 = float(input(\"enter a number :\"))\\nprint(\"the entered value is \" , num1)\\ntry:\\n    num2 = float(input(\"enter a number :\"))\\n    print(\"the entered value is \" , num2)\\n    value = num1/ num2\\n    print(\"this process is running with value =\" ,value)\\nexcept ZeroDivisionError:\\n    print(\"this function gives a zero division error since a number cannnot divided by 0\")\\nexcept ValueError:\\n    print(\"you should provide a number\")\\nexcept:\\n    print(\"something went wrong\")\\nelse:\\n    print(\"this process is running with value =\" ,value)',\n",
       " '_i14': '# try / except / else\\nnum1 = float(input(\"enter a number :\"))\\nprint(\"the entered value is \" , num1)\\ntry:\\n    num2 = float(input(\"enter a number :\"))\\n    print(\"the entered value is \" , num2)\\n    value = num1/ num2\\n    \\nexcept ZeroDivisionError:\\n    print(\"this function gives a zero division error since a number cannnot divided by 0\")\\nexcept ValueError:\\n    print(\"you should provide a number\")\\nexcept:\\n    print(\"something went wrong\")\\nelse:\\n    print(\"this process is running with value =\" ,value)',\n",
       " '_i15': '# try /except / else / finally \\nnum1 = float(input(\"enter a number :\"))\\nprint(\"the entered value is \" , num1)\\ntry:\\n    num2 = float(input(\"enter a number :\"))\\n    print(\"the entered value is \" , num2)\\n    value = num1/ num2\\n    \\nexcept ZeroDivisionError:\\n    print(\"this function gives a zero division error since a number cannnot divided by 0\")\\nexcept ValueError:\\n    print(\"you should provide a number\")\\nexcept:\\n    print(\"something went wrong\")\\nelse:\\n    print(\"this process is running with value =\" ,value)\\nfinally:\\n    print(\"this process is completed\")',\n",
       " '_i16': '# multiple except ',\n",
       " '_i17': '# multiple except \\n\\nnum1 = float(input(\"enter a number :\"))\\nprint(\"the entered value is \" , num1)\\ntry:\\n    num2 = float(input(\"enter a number :\"))\\n    print(\"the entered value is \" , num2)\\n    value = num1/ num2\\n    \\nexcept (ZeroDivisionError, NameError , ValueError  ):\\n    print(\"this function gives a zero division , Name error , Value error\")\\nexcept ValueError:\\n    print(\"you should provide a number\")\\nexcept:\\n    print(\"something went wrong\")\\nelse:\\n    print(\"this process is running with value =\" ,value)\\nfinally:\\n    print(\"this process is completed\")',\n",
       " '_i18': '# raising in exception \\nnum = int( input(\"enter the number  : \"))\\nprint(\"the entered number  is\", num) \\ntry:\\n    if num > 1000 and num % 2 == 0 or num % 2 !=0:\\n        raise Exception(\"do not allow to the even numbers higher than 1000\")\\nexcept:\\n    print(\"this process is running with the value = \" , num )\\nfinally:\\n    print(\"the process is completed\")',\n",
       " 'num': 34,\n",
       " '_i19': '# raising in exception \\nnum = int( input(\"enter the number  : \"))\\nprint(\"the entered number  is\", num) \\ntry:\\n    if num > 1000 and num % 2 == 0 or num % 2 !=0:\\n        raise Exception(\"do not allow to the even numbers higher than 1000\")\\nexcept:\\n    print(\"this process is running with the value = \" , num )\\nfinally:\\n    print(\"the process is completed\")',\n",
       " '_i20': '# raising in exception \\nnum = int( input(\"enter the number  : \"))\\nprint(\"the entered number  is\", num) \\ntry:\\n    if num > 1000 and num % 2 == 0 or num % 2 !=0:\\n        raise Exception(\"do not allow to the even numbers higher than 1000\")\\nexcept:\\n    print(\"even or odd numbers higher than 1000 are not allowed\")\\nelse:\\n    print(\"this process is running with the value = \" , num )\\nfinally:\\n    print(\"the process is completed\")',\n",
       " '_i21': '# abs()\\n# return the absolute value  of a number \\nnum1 = int (input(\"enter the number :\"))\\nprint(\" entered the number is \" , num1)\\nnum2 = float(input(\"enter the number :\"))\\nprint(\" entered the number is \" , num2)\\nprint(\"the absolute  number  of the second number is \" , abs(num1))\\nprint(\"the absolute  number  of the second number is \" , abs(num2))\\nprint(\"the difference of two numbers  \" , abs(num1 - num2 ))',\n",
       " '_i22': '#all ()\\n# return true if all elements are passes itreable are true \\nnlis = [ 0.577 , 3.14 , 1.618 , 6 ,37 , 28 ,1729]\\nprint(all(nlis))',\n",
       " '_i23': '#all ()\\n# return true if all elements are passes itreable are true \\nnlis = [ 0.577 , 3.14 , 1.618 , 6 ,37 , 28 ,1729]\\nprint(all(nlis))\\nprint(nlis)',\n",
       " '_i24': '#all ()\\n# return true if all elements are passes itreable are true \\nnlis = [ 0.577 , 3.14 , 1.618 , 6 ,37 , 28 ,1729]\\nprint(all(nlis))\\nprint(nlis)\\nnlis.append(0)',\n",
       " '_i25': '#all ()\\n# return true if all elements are passes itreable are true \\nnlis = [ 0.577 , 3.14 , 1.618 , 6 ,37 , 28 ,1729]\\nprint(all(nlis))\\nnlis.append(0)\\nprint(nlis)\\nprint(all(nlis))\\nnlis.append(False)\\nprint(nlis<1)\\nprint(all(nlis))\\nnlis.clear()\\nprint(nlis)\\nprint(all(nlis))',\n",
       " '_i26': '#all ()\\n# return true if all elements are passes itreable are true \\nnlis = [ 0.577 , 3.14 , 1.618 , 6 ,37 , 28 ,1729]\\nprint(all(nlis))\\nnlis.append(0)\\nprint(nlis)\\nprint(all(nlis))\\nnlis.append(False)\\nprint(nlis)\\nprint(all(nlis))\\nnlis.clear()\\nprint(nlis)\\nprint(all(nlis))',\n",
       " '_i27': '# bin ()\\n# its return the binary representation of a specified integer \\nnum = int (input(\"enter a number :\"))\\nprint(f\"the entered number is {num}\")\\nprint(f\"the binary representation of {num} is   {bin(num)}\")',\n",
       " '_i28': '# bool()\\n# convert a value to boolean , namely true and false \\nlis , dict , tuple =[] ,{} ,()\\nprint(bool(lis)) ,bool(dict) , bool(tuple)',\n",
       " 'lis': [0],\n",
       " 'dict': {'a': 1},\n",
       " 'tuple': (1,),\n",
       " '_28': (None, False, False),\n",
       " '_i29': '# bool()\\n# convert a value to boolean , namely true and false \\nlis , dict , tuple =[],{} ,()\\nprint(bool(lis)) ,bool(dict) , bool(tuple)',\n",
       " '_29': (None, False, False),\n",
       " '_i30': '# bool()\\n# convert a value to boolean , namely true and false \\nlis , dict , tuple =[],{} ,()\\nprint(bool(lis)) ,bool(dict) , bool(tuple)\\nlis , dict , tuple = [0] , {\"a\" : 1} , (1,)',\n",
       " '_i31': '# bool()\\n# convert a value to boolean , namely true and false \\nlis , dict , tuple =[],{} ,()\\nprint(bool(lis) ,bool(dict) , bool(tuple))\\nlis , dict , tuple = [0] , {\"a\" : 1} , (1,)\\nprint(bool(lis) ,bool(dict) , bool(tuple))',\n",
       " '_i32': '# bool()\\n# convert a value to boolean , namely true and false \\nlis , dict , tuple =[],{} ,()\\nprint(bool(lis) ,bool(dict) , bool(tuple))\\nlis , dict , tuple = [0] , {\"a\" : 1} , (1,)\\nprint(bool(lis) ,bool(dict) , bool(tuple))\\nstatement = None\\nprint(bool(None))',\n",
       " 'statement': None,\n",
       " '_i33': '# bool()\\n# convert a value to boolean , namely true and false \\nlis , dict , tuple =[],{} ,()\\nprint(bool(lis) ,bool(dict) , bool(tuple))\\nlis , dict , tuple = [0] , {\"a\" : 1} , (1,)\\nprint(bool(lis) ,bool(dict) , bool(tuple))\\nstatement = None\\nprint(bool(None))\\ntrue = True\\nprint(bool(True))',\n",
       " 'true': True,\n",
       " '_i34': '# bool()\\n# convert a value to boolean , namely true and false \\nlis , dict , tuple =[],{} ,()\\nprint(bool(lis) ,bool(dict) , bool(tuple))\\nlis , dict , tuple = [0] , {\"a\" : 1} , (1,)\\nprint(bool(lis) ,bool(dict) , bool(tuple))\\nstatement = None\\nprint(bool(None))\\ntrue = True\\nprint(bool(true))',\n",
       " '_i35': '# bytes()\\n# return a bytes object \\nmsg = \"hello , Python \"\\nnew_msg=bytes(msg , \"utf-8\")',\n",
       " 'msg': <function __main__.function()>,\n",
       " 'new_msg': b'hello , Python ',\n",
       " '_i36': '# bytes()\\n# return a bytes object \\nmsg = \"hello , Python \"\\nnew_msg=bytes(msg , \"utf-8\")\\nprint(new_msg)',\n",
       " '_i37': '# callable \\n# checks and return true if the object passed appears to the callable \\nvar = 3.14\\nprint(callable(var))\\n# since the object does not appear callable , it returns false \\ndef funnction ():\\n    msg = \"hi python\"\\n    msg = function\\n    print(callable(msg))\\n    ',\n",
       " 'var': 3.14,\n",
       " 'funnction': <function __main__.funnction()>,\n",
       " '_i38': '# callable \\n# checks and return true if the object passed appears to the callable \\nvar = 3.14\\nprint(callable(var))\\n# since the object does not appear callable , it returns false \\ndef funnction ():\\n    msg = \"hi python\"\\nmsg = function\\nprint(callable(msg))',\n",
       " '_i39': '# callable \\n# checks and return true if the object passed appears to the callable \\nvar = 3.14\\nprint(callable(var))\\n# since the object does not appear callable , it returns false \\ndef function():\\n    msg = \"hi python\"\\nmsg = function\\nprint(callable(msg))',\n",
       " 'function': <function __main__.function()>,\n",
       " '_i40': '# chr()\\n# it return a character from the specified unicode code\\nprint(chr(66))\\nprint(chr(89))',\n",
       " '_i41': '# chr()\\n# it return a character from the specified unicode code\\nprint(chr(66))\\nprint(chr(89))\\nprint(chr(132))\\nprint(chr(3))',\n",
       " '_i42': '# compile \\n# return a code object that can be subsequences  be excuted by exec() function\\ncode_line = \\'x = 3.14\\\\ny=1.618\\\\nprint(\"Result = \"2*x+5*y )\\'\\ncode = compile(code_line , \"Result.py\" , \"exec\")\\nprint(type(code))\\nexec(code)',\n",
       " 'code_line': 'x = 3.14\\ny=1.618\\nprint(\"Result = \" , 2*x+5*y )',\n",
       " '_i43': '# compile \\n# return a code object that can be subsequences  be excuted by exec() function\\ncode_line = \\'x = 3.14\\\\ny=1.618\\\\nprint(\"Result = \" , 2*x+5*y )\\'\\ncode = compile(code_line , \"Result.py\" , \"exec\")\\nprint(type(code))\\nexec(code)',\n",
       " 'code': <code object <module> at 0x000002A12A0EBB40, file \"Result.py\", line 1>,\n",
       " 'x': 3.14,\n",
       " 'y': 1.618,\n",
       " '_i44': '# exec()\\n# its excutes the specified code or object \\nvar = 3.14\\nexec(\"print(var==3.14)\")\\nexec(\"print(var!=3.14)\")\\nexec(\"print(var + 2.718)\")',\n",
       " '_i45': '# gerattr \\n# it return the value of the specified attritube (property or method ) . if it is not found .\\n# it returns the defualt value.\\n\\n\\nclass SpecialNumbers:\\n    euler_constant = 0.577\\n    euler_number = 2.718\\n    pi = 3.14\\n    golden_ratio = 1.618\\n    msg = \"these number are special . \"\\nspecial_numbers = SpecialNumbers()\\nprint(\" the euler number is \" , getattr(special_numbers ,\"euler_ number \" ))\\nprint(\"the golden ratio is \" , special number.golden _ratio)',\n",
       " '_i46': '# gerattr \\n# it return the value of the specified attritube (property or method ) . if it is not found .\\n# it returns the defualt value.\\n\\n\\nclass SpecialNumbers:\\n    euler_constant = 0.577\\n    euler_number = 2.718\\n    pi = 3.14\\n    golden_ratio = 1.618\\n    msg = \"these number are special . \"\\nspecial_numbers = SpecialNumbers()\\nprint(\" the euler number is \" , getattr(special_numbers ,\"euler_ number \" ))\\nprint(\"the golden ratio is \" , special number,golden _ratio)',\n",
       " '_i47': '# gerattr \\n# it return the value of the specified attritube (property or method ) . if it is not found .\\n# it returns the defualt value.\\n\\n\\nclass SpecialNumbers:\\n    euler_constant = 0.577\\n    euler_number = 2.718\\n    pi = 3.14\\n    golden_ratio = 1.618\\n    msg = \"these number are special . \"\\nspecial_numbers = SpecialNumbers()\\nprint(\" the euler number is \" , getattr(special_numbers ,\"euler_ number \" ))\\nprint(\"the golden ratio is \" , specialnumbers .golden _ratio)',\n",
       " '_i48': '# gerattr \\n# it return the value of the specified attritube (property or method ) . if it is not found .\\n# it returns the defualt value.\\n\\n\\nclass SpecialNumbers:\\n    euler_constant = 0.577\\n    euler_number = 2.718\\n    pi = 3.14\\n    golden_ratio = 1.618\\n    msg = \"these number are special . \"\\nspecial_numbers = SpecialNumbers()\\nprint(\" the euler number is \" , getattr(special_numbers ,\"euler_ number \" ))\\nprint(\"the golden ratio is \" , special_numbers .golden _ratio)',\n",
       " '_i49': '# gerattr \\n# it return the value of the specified attritube (property or method ) . if it is not found .\\n# it returns the defualt value.\\n\\n\\nclass SpecialNumbers:\\n    euler_constant = 0.577\\n    euler_number = 2.718\\n    pi = 3.14\\n    golden_ratio = 1.618\\n    msg = \"these number are special . \"\\nspecial_numbers = SpecialNumbers()\\nprint(\" the euler number is \" , getattr(special_numbers ,\"euler_ number \" ))\\nprint(\"the golden ratio is \" , special_numbers .golden_ratio)',\n",
       " 'SpecialNumbers': __main__.SpecialNumbers,\n",
       " 'special_numbers': <__main__.SpecialNumbers at 0x2a12ab99410>,\n",
       " '_i50': '# gerattr \\n# it return the value of the specified attritube (property or method ) . if it is not found .\\n# it returns the defualt value.\\n\\n\\nclass SpecialNumbers:\\n    euler_constant = 0.577\\n    euler_number = 2.718\\n    pi = 3.14\\n    golden_ratio = 1.618\\n    msg = \"these number are special . \"\\nspecial_numbers = SpecialNumbers()\\nprint(\" the euler number is \" , getattr(special_numbers,\"euler_ number \" ))\\nprint(\"the golden ratio is \" , special_numbers.golden_ratio)',\n",
       " '_i51': '# gerattr \\n# it return the value of the specified attritube (property or method ) . if it is not found .\\n# it returns the defualt value.\\n\\n\\nclass SpecialNumbers:\\n    euler_constant = 0.577\\n    euler_number = 2.718\\n    pi = 3.14\\n    golden_ratio = 1.618\\n    msg = \"these number are special . \"\\n# special_numbers = SpecialNumbers()\\n# print(\" the euler number is \" , getattr(special_numbers,\"euler_ number \" ))\\n# print(\"the golden ratio is \" , special_numbers.golden_ratio)',\n",
       " '_i52': '# gerattr \\n# it return the value of the specified attritube (property or method ) . if it is not found .\\n# it returns the defualt value.\\n\\n\\nclass SpecialNumbers:\\n    euler_constant = 0.577\\n    euler_number = 2.718\\n    pi = 3.14\\n    golden_ratio = 1.618\\n    msg = \"these number are special . \"\\nspecial_numbers = SpecialNumbers()\\n# print(\" the euler number is \" , getattr(special_numbers,\"euler_ number \" ))\\n# print(\"the golden ratio is \" , special_numbers.golden_ratio)',\n",
       " '_i53': '# gerattr \\n# it return the value of the specified attritube (property or method ) . if it is not found .\\n# it returns the defualt value.\\n\\n\\nclass SpecialNumbers:\\n    euler_constant = 0.577\\n    euler_number = 2.718\\n    pi = 3.14\\n    golden_ratio = 1.618\\n    msg = \"these number are special . \"\\nspecial_numbers = SpecialNumbers()\\nprint(\" the euler number is \" , getattr(special_numbers,\"euler_ number \" ))\\nprint(\"the golden ratio is \" , special_numbers.golden_ratio)',\n",
       " '_i54': '# gerattr \\n# it return the value of the specified attritube (property or method ) . if it is not found .\\n# it returns the defualt value.\\n\\n\\nclass SpecialNumbers:\\n    euler_constant = 0.577\\n    euler_number = 2.718\\n    pi = 3.14\\n    golden_ratio = 1.618\\n    msg = \"these number are special . \"\\nspecial_numbers = SpecialNumbers()\\nprint(\" the euler number is \" , getattr(special_numbers,\"euler_ number \" ))\\n# print(\"the golden ratio is \" , special_numbers.golden_ratio)',\n",
       " '_i55': '# gerattr \\n# it return the value of the specified attritube (property or method ) . if it is not found .\\n# it returns the defualt value.\\n\\n\\nclass SpecialNumbers:\\n    euler_constant = 0.577\\n    euler_number = 2.718\\n    pi = 3.14\\n    golden_ratio = 1.618\\n    msg = \"these number are special . \"\\nspecial_numbers = SpecialNumbers()\\n# print(\" the euler number is \" , getattr(special_numbers,\"euler_ number \" ))\\nprint(\"the golden ratio is \" , special_numbers.golden_ratio)',\n",
       " '_i56': '# gerattr \\n# it return the value of the specified attritube (property or method ) . if it is not found .\\n# it returns the defualt value.\\n\\n\\nclass SpecialNumbers:\\n    euler_constant = 0.577\\n    euler_number = 2.718\\n    pi = 3.14\\n    golden_ratio = 1.618\\n    msg = \"these number are special . \"\\nspecial_numbers = SpecialNumbers()\\nprint(\" the euler number is \" , getattr(special_numbers,\\'euler_ number \\' ))\\nprint(\"the golden ratio is \" , special_numbers.golden_ratio)',\n",
       " '_i57': '# gerattr \\n# it return the value of the specified attritube (property or method ) . if it is not found .\\n# it returns the defualt value.\\n\\n\\nclass SpecialNumbers:\\n    euler_constant = 0.577\\n    euler_number = 2.718\\n    pi = 3.14\\n    golden_ratio = 1.618\\n    msg = \"these number are special . \"\\nspecial_numbers = SpecialNumbers()\\nprint(\" the euler number is \" , getattr(special_numbers,\\' euler_number\\' ))\\nprint(\"the golden ratio is \" , special_numbers.golden_ratio)',\n",
       " '_i58': '# gerattr \\n# it return the value of the specified attritube (property or method ) . if it is not found .\\n# it returns the defualt value.\\n\\n\\nclass SpecialNumbers:\\n    euler_constant = 0.577\\n    euler_number = 2.718\\n    pi = 3.14\\n    golden_ratio = 1.618\\n    msg = \"these number are special . \"\\nspecial_numbers = SpecialNumbers()\\nprint(\"the golden ratio is \" , special_numbers.golden_ratio)\\nprint(\" the euler number is \" ,getattr(special_numbers,\\' euler_number\\' ))',\n",
       " '_i59': '# delattr()\\n# its deletes the specified attritube ( property , method) from the specified object \\n\\nclass SpecialNumbers:\\n    euler_constant = 0.577\\n    euler_number = 2.718\\n    pi = 3.14\\n    golden_ratio = 1.618\\n    def parameter(self): \\n        print(self.euler_constant , self.euler_number ,self.golden_ratio , self.pi ,self.msg)\\n    msg = \"these number are special . \"\\nspecial_numbers = SpecialNumbers()\\nprint(\"the golden ratio is \" , special_numbers.golden_ratio)\\nprint(\" the euler number is \" ,getattr(special_numbers,\\' euler_number\\' ))',\n",
       " '_i60': '# delattr()\\n# its deletes the specified attritube ( property , method) from the specified object \\n\\nclass SpecialNumbers:\\n    euler_constant = 0.577\\n    euler_number = 2.718\\n    pi = 3.14\\n    golden_ratio = 1.618\\n    msg = \"these number are special . \"\\n    def parameter(self): \\n        print(self.euler_constant , self.euler_number ,self.golden_ratio , self.pi ,self.msg)\\n    \\nspecial_numbers = SpecialNumbers()\\nspecial_numbers.parameter()\\ndelattr(spSpecialNumbers , \"msg\") # this code deleted the msg\\nspecial_numbers.parameter() # since the code deleted the msg , it return attribute error',\n",
       " '_i61': '# gerattr \\n# it return the value of the specified attritube (property or method ) . if it is not found .\\n# it returns the defualt value.\\n\\n\\nclass SpecialNumbers:\\n    euler_constant = 0.577\\n    euler_number = 2.718\\n    pi = 3.14\\n    golden_ratio = 1.618\\n    msg = \"these number are special . \"\\nspecial_numbers = SpecialNumbers()\\nprint(\"the golden ratio is \" , SpecialNumbers.golden_ratio)\\nprint(\" the euler number is \" ,getattr(SpecialNumbers,\\' euler_number\\' ))',\n",
       " '_i62': '# gerattr \\n# it return the value of the specified attritube (property or method ) . if it is not found .\\n# it returns the defualt value.\\n\\n\\nclass SpecialNumbers:\\n    euler_constant = 0.577\\n    euler_number = 2.718\\n    pi = 3.14\\n    golden_ratio = 1.618\\n    msg = \"these number are special . \"\\nspecial_numbers = SpecialNumbers()\\n\\nprint(\" the euler number is \" ,getattr(SpecialNumbers,\\' euler_number\\' ))\\nprint(\"the golden ratio is \" , SpecialNumbers.golden_ratio)',\n",
       " '_i63': '# gerattr \\n# it return the value of the specified attritube (property or method ) . if it is not found .\\n# it returns the defualt value.\\n\\n\\nclass SpecialNumbers:\\n    euler_constant = 0.577\\n    euler_number = 2.718\\n    pi = 3.14\\n    golden_ratio = 1.618\\n    msg = \"these number are special . \"\\nspecial_numbers = SpecialNumbers()\\n\\nprint(\" the euler number is \" ,getattr(special_numbers,\\' euler_number\\' ))\\nprint(\"the golden ratio is \" , special_numbers.golden_ratio)',\n",
       " '_i64': '# dict()\\n# it return a dictionary (array)\\n\\nname = dict()\\nprint(name )\\n\\ndictionary = dict(euler_constant  = 0.577 , euler_number = 2.718, golden_ratio = 1.618)\\nprint(dictionary)',\n",
       " '_i65': '# dict()\\n# it return a dictionary (array)\\n\\nname = dict()\\nprint(\"name\")\\n\\ndictionary = dict(euler_constant  = 0.577 , euler_number = 2.718, golden_ratio = 1.618)\\nprint(dictionary)',\n",
       " '_i66': '# dict()\\n# it return a dictionary (array)\\n\\nname = dict()\\nprint(name )\\n\\ndictionary = dict(euler_constant  = 0.577 , euler_number = 2.718, golden_ratio = 1.618)\\nprint(dictionary)',\n",
       " '_i67': '# dict()\\n# it return a dictionary (array)\\n\\n# name = dict()\\n# print(name )\\n\\ndictionary = dict(euler_constant  = 0.577 , euler_number = 2.718, golden_ratio = 1.618)\\nprint(dictionary)',\n",
       " '_i68': '# dict()\\n# it return a dictionary (array)\\n\\n# name = dict()\\n# print(name )\\n\\ndictionary = dict(euler_constant  = 0.577 , euler_number = 2.718, golden_ratio = 1.618)\\nprint(dictionary)',\n",
       " '_i69': '# dict()\\n# it return a dictionary (array)\\n\\n# name = dict()\\n# print(name )\\n\\ndictionary = dict(euler_constant  = 0.577 , euler_number = 2.718, golden_ratio = 1.618)\\nprint(dictionary)',\n",
       " '_i70': '# dict()\\n# it return a dictionary (array)\\n\\nname = dict()\\nprint(name )\\n\\ndictionary = dict(euler_constant  = 0.577 , euler_number = 2.718, golden_ratio = 1.618)\\nprint(dictionary)',\n",
       " '_i71': '# delattr()\\n# its deletes the specified attritube ( property , method) from the specified object \\n\\nclass SpecialNumbers:\\n    euler_constant = 0.577\\n    euler_number = 2.718\\n    pi = 3.14\\n    golden_ratio = 1.618\\n    msg = \"these number are special . \"\\n    def parameter(self): \\n        print(self.euler_constant , self.euler_number ,self.golden_ratio , self.pi ,self.msg)\\n    \\nspecial_numbers = SpecialNumbers()\\nspecial_numbers.parameter()\\ndelattr(SpecialNumbers , \"msg\") # this code deleted the msg\\nspecial_numbers.parameter() # since the code deleted the msg , it return attribute error',\n",
       " '_i72': \"# enumerate ()\\n# it takes a collection of tuoles and return it as an enumerate object \\n\\nstr_list = ['hello Python' , 'hello world']\\nfor i ,str_list in enumerate(str_list):\\n    print(i ,str_list)\",\n",
       " 'str_list': 'hello world',\n",
       " 'i': 1,\n",
       " '_i73': '# filter()\\n# it exclude items in an iterable object \\ndef filtering(data):\\n    if data > 30 :\\n        return data \\ndata = [ 0.577 , 1.618 , 3.14 .2.718, 6 ,28 ,37 ,1729]\\nresult = filter(filtering , data)\\nprint(lis(result))',\n",
       " '_i74': '# filter()\\n# it exclude items in an iterable object \\ndef filtering(data):\\n    if data > 30 :\\n        return data \\ndata = [ 0.577 , 1.618 , 3.14 ,2.718, 6 ,28 ,37 ,1729]\\nresult = filter(filtering , data)\\nprint(lis(result))',\n",
       " 'filtering': <function __main__.filtering(data)>,\n",
       " 'data': [0.577, 1.618, 3.14, 2.718, 6, 28, 37, 1729],\n",
       " 'result': <filter at 0x2a12954f0d0>,\n",
       " '_i75': '# filter()\\n# it exclude items in an iterable object \\ndef filtering(data):\\n    if data > 30 :\\n        return data \\ndata = [ 0.577 , 1.618 , 3.14 ,2.718, 6 ,28 ,37 ,1729]\\nresult = filter(filtering , data)\\nprint(list(result))',\n",
       " '_i76': '# globals()\\n#  it return  the current global symbol table as a dictionary \\n\\n\\nglobals()'}"
      ]
     },
     "execution_count": 76,
     "metadata": {},
     "output_type": "execute_result"
    }
   ],
   "source": [
    "# globals()\n",
    "#  it return  the current global symbol table as a dictionary \n",
    "\n",
    "\n",
    "globals()"
   ]
  },
  {
   "cell_type": "code",
   "execution_count": 77,
   "metadata": {},
   "outputs": [
    {
     "name": "stdout",
     "output_type": "stream",
     "text": [
      "the number is 3.14\n"
     ]
    }
   ],
   "source": [
    "num = 37\n",
    "globals()['num'] = 3.14\n",
    "print(f\"the number is {num}\")"
   ]
  },
  {
   "cell_type": "code",
   "execution_count": 78,
   "metadata": {},
   "outputs": [
    {
     "name": "stdout",
     "output_type": "stream",
     "text": [
      "frozenset is  frozenset({0.577, 1.618, 2.718, 3.14, 1729, 37, 6, 28})\n"
     ]
    }
   ],
   "source": [
    "# frozen ()\n",
    "# it return a frozenset object \n",
    "nlis = [0.577 , 1.618 , 2.718 ,3.14 ,6 , 28 , 37 , 1729]\n",
    "frozen_nlis = frozenset(nlis)\n",
    "print(\"frozen set is \" , frozen_nlis )"
   ]
  },
  {
   "cell_type": "code",
   "execution_count": 79,
   "metadata": {},
   "outputs": [
    {
     "name": "stdout",
     "output_type": "stream",
     "text": [
      "[0.577, 1.618, 2.718, 3.14, 6, 28, 37, 1729]\n",
      "True\n",
      "[]\n",
      "False\n",
      "[0]\n",
      "False\n",
      "[0, False]\n",
      "False\n",
      "[0, False, True]\n",
      "True\n",
      "[0, False, True, 1]\n",
      "True\n",
      "[0, False, True, 1, None]\n",
      "True\n"
     ]
    }
   ],
   "source": [
    "# any()\n",
    "# it return true if any iterable is true \n",
    "\n",
    "\n",
    "nlis = [0.577 , 1.618 , 2.718 ,3.14 ,6 , 28 , 37 , 1729]\n",
    "print(nlis)\n",
    "print(any(nlis))\n",
    "nlis.clear()\n",
    "print(nlis)\n",
    "print(any(nlis))\n",
    "nlis.append(0)\n",
    "print(nlis)\n",
    "print(any(nlis))\n",
    "nlis.append(False)\n",
    "print(nlis)\n",
    "print(any(nlis))\n",
    "nlis.append(True)\n",
    "print(nlis)\n",
    "print(any(nlis))\n",
    "nlis.append(1)\n",
    "print(nlis)\n",
    "print(any(nlis))\n",
    "nlis.append(None)\n",
    "print(nlis)\n",
    "print(any(nlis))"
   ]
  },
  {
   "cell_type": "code",
   "execution_count": null,
   "metadata": {},
   "outputs": [],
   "source": [
    "#  ascii()\n",
    "# it returns a string  including a printable representation of an object and escape non - ASCII character s in the String \n",
    "#  employing \\ux, \\x or \\u escapes\n",
    "\n",
    "txt =\"hell\" "
   ]
  },
  {
   "cell_type": "code",
   "execution_count": null,
   "metadata": {},
   "outputs": [],
   "source": []
  },
  {
   "cell_type": "code",
   "execution_count": null,
   "metadata": {},
   "outputs": [],
   "source": []
  },
  {
   "cell_type": "code",
   "execution_count": null,
   "metadata": {},
   "outputs": [],
   "source": []
  },
  {
   "cell_type": "code",
   "execution_count": null,
   "metadata": {},
   "outputs": [],
   "source": []
  },
  {
   "cell_type": "code",
   "execution_count": null,
   "metadata": {},
   "outputs": [],
   "source": []
  },
  {
   "cell_type": "code",
   "execution_count": null,
   "metadata": {},
   "outputs": [],
   "source": []
  },
  {
   "cell_type": "code",
   "execution_count": null,
   "metadata": {},
   "outputs": [],
   "source": []
  },
  {
   "cell_type": "code",
   "execution_count": null,
   "metadata": {},
   "outputs": [],
   "source": []
  },
  {
   "cell_type": "code",
   "execution_count": null,
   "metadata": {},
   "outputs": [],
   "source": []
  },
  {
   "cell_type": "code",
   "execution_count": null,
   "metadata": {},
   "outputs": [],
   "source": []
  },
  {
   "cell_type": "code",
   "execution_count": null,
   "metadata": {},
   "outputs": [],
   "source": []
  },
  {
   "cell_type": "code",
   "execution_count": null,
   "metadata": {},
   "outputs": [],
   "source": []
  },
  {
   "cell_type": "code",
   "execution_count": null,
   "metadata": {},
   "outputs": [],
   "source": []
  },
  {
   "cell_type": "code",
   "execution_count": null,
   "metadata": {},
   "outputs": [],
   "source": []
  },
  {
   "cell_type": "code",
   "execution_count": null,
   "metadata": {},
   "outputs": [],
   "source": []
  },
  {
   "cell_type": "code",
   "execution_count": null,
   "metadata": {},
   "outputs": [],
   "source": []
  },
  {
   "cell_type": "code",
   "execution_count": null,
   "metadata": {},
   "outputs": [],
   "source": []
  },
  {
   "cell_type": "code",
   "execution_count": null,
   "metadata": {},
   "outputs": [],
   "source": []
  },
  {
   "cell_type": "code",
   "execution_count": null,
   "metadata": {},
   "outputs": [],
   "source": []
  },
  {
   "cell_type": "code",
   "execution_count": null,
   "metadata": {},
   "outputs": [],
   "source": []
  },
  {
   "cell_type": "code",
   "execution_count": null,
   "metadata": {},
   "outputs": [],
   "source": []
  },
  {
   "cell_type": "code",
   "execution_count": null,
   "metadata": {},
   "outputs": [],
   "source": []
  },
  {
   "cell_type": "code",
   "execution_count": null,
   "metadata": {},
   "outputs": [],
   "source": []
  },
  {
   "cell_type": "code",
   "execution_count": null,
   "metadata": {},
   "outputs": [],
   "source": []
  },
  {
   "cell_type": "code",
   "execution_count": null,
   "metadata": {},
   "outputs": [],
   "source": []
  },
  {
   "cell_type": "code",
   "execution_count": null,
   "metadata": {},
   "outputs": [],
   "source": []
  },
  {
   "cell_type": "code",
   "execution_count": null,
   "metadata": {},
   "outputs": [],
   "source": []
  },
  {
   "cell_type": "code",
   "execution_count": null,
   "metadata": {},
   "outputs": [],
   "source": []
  },
  {
   "cell_type": "code",
   "execution_count": null,
   "metadata": {},
   "outputs": [],
   "source": []
  },
  {
   "cell_type": "code",
   "execution_count": null,
   "metadata": {},
   "outputs": [],
   "source": []
  },
  {
   "cell_type": "code",
   "execution_count": null,
   "metadata": {},
   "outputs": [],
   "source": []
  },
  {
   "cell_type": "code",
   "execution_count": null,
   "metadata": {},
   "outputs": [],
   "source": []
  },
  {
   "cell_type": "code",
   "execution_count": null,
   "metadata": {},
   "outputs": [],
   "source": []
  },
  {
   "cell_type": "code",
   "execution_count": null,
   "metadata": {},
   "outputs": [],
   "source": []
  },
  {
   "cell_type": "code",
   "execution_count": null,
   "metadata": {},
   "outputs": [],
   "source": []
  },
  {
   "cell_type": "code",
   "execution_count": null,
   "metadata": {},
   "outputs": [],
   "source": []
  },
  {
   "cell_type": "code",
   "execution_count": null,
   "metadata": {},
   "outputs": [],
   "source": []
  },
  {
   "cell_type": "code",
   "execution_count": null,
   "metadata": {},
   "outputs": [],
   "source": []
  },
  {
   "cell_type": "code",
   "execution_count": null,
   "metadata": {},
   "outputs": [],
   "source": []
  },
  {
   "cell_type": "code",
   "execution_count": null,
   "metadata": {},
   "outputs": [],
   "source": []
  },
  {
   "cell_type": "code",
   "execution_count": null,
   "metadata": {},
   "outputs": [],
   "source": []
  },
  {
   "cell_type": "code",
   "execution_count": null,
   "metadata": {},
   "outputs": [],
   "source": []
  },
  {
   "cell_type": "code",
   "execution_count": null,
   "metadata": {},
   "outputs": [],
   "source": []
  },
  {
   "cell_type": "code",
   "execution_count": null,
   "metadata": {},
   "outputs": [],
   "source": []
  },
  {
   "cell_type": "code",
   "execution_count": null,
   "metadata": {},
   "outputs": [],
   "source": []
  },
  {
   "cell_type": "code",
   "execution_count": null,
   "metadata": {},
   "outputs": [],
   "source": []
  },
  {
   "cell_type": "code",
   "execution_count": null,
   "metadata": {},
   "outputs": [],
   "source": []
  },
  {
   "cell_type": "code",
   "execution_count": null,
   "metadata": {},
   "outputs": [],
   "source": []
  },
  {
   "cell_type": "code",
   "execution_count": null,
   "metadata": {},
   "outputs": [],
   "source": []
  },
  {
   "cell_type": "code",
   "execution_count": null,
   "metadata": {},
   "outputs": [],
   "source": []
  },
  {
   "cell_type": "code",
   "execution_count": null,
   "metadata": {},
   "outputs": [],
   "source": []
  },
  {
   "cell_type": "code",
   "execution_count": null,
   "metadata": {},
   "outputs": [],
   "source": []
  },
  {
   "cell_type": "code",
   "execution_count": null,
   "metadata": {},
   "outputs": [],
   "source": []
  },
  {
   "cell_type": "code",
   "execution_count": null,
   "metadata": {},
   "outputs": [],
   "source": []
  },
  {
   "cell_type": "code",
   "execution_count": null,
   "metadata": {},
   "outputs": [],
   "source": []
  },
  {
   "cell_type": "code",
   "execution_count": null,
   "metadata": {},
   "outputs": [],
   "source": []
  },
  {
   "cell_type": "code",
   "execution_count": null,
   "metadata": {},
   "outputs": [],
   "source": []
  },
  {
   "cell_type": "code",
   "execution_count": null,
   "metadata": {},
   "outputs": [],
   "source": []
  },
  {
   "cell_type": "code",
   "execution_count": null,
   "metadata": {},
   "outputs": [],
   "source": []
  },
  {
   "cell_type": "code",
   "execution_count": null,
   "metadata": {},
   "outputs": [],
   "source": []
  },
  {
   "cell_type": "code",
   "execution_count": null,
   "metadata": {},
   "outputs": [],
   "source": []
  },
  {
   "cell_type": "code",
   "execution_count": null,
   "metadata": {},
   "outputs": [],
   "source": []
  },
  {
   "cell_type": "code",
   "execution_count": null,
   "metadata": {},
   "outputs": [],
   "source": []
  },
  {
   "cell_type": "code",
   "execution_count": null,
   "metadata": {},
   "outputs": [],
   "source": []
  },
  {
   "cell_type": "code",
   "execution_count": null,
   "metadata": {},
   "outputs": [],
   "source": []
  },
  {
   "cell_type": "code",
   "execution_count": null,
   "metadata": {},
   "outputs": [],
   "source": []
  },
  {
   "cell_type": "code",
   "execution_count": null,
   "metadata": {},
   "outputs": [],
   "source": []
  },
  {
   "cell_type": "code",
   "execution_count": null,
   "metadata": {},
   "outputs": [],
   "source": []
  },
  {
   "cell_type": "code",
   "execution_count": null,
   "metadata": {},
   "outputs": [],
   "source": []
  },
  {
   "cell_type": "code",
   "execution_count": null,
   "metadata": {},
   "outputs": [],
   "source": []
  },
  {
   "cell_type": "code",
   "execution_count": null,
   "metadata": {},
   "outputs": [],
   "source": []
  },
  {
   "cell_type": "code",
   "execution_count": null,
   "metadata": {},
   "outputs": [],
   "source": []
  },
  {
   "cell_type": "code",
   "execution_count": null,
   "metadata": {},
   "outputs": [],
   "source": []
  },
  {
   "cell_type": "code",
   "execution_count": null,
   "metadata": {},
   "outputs": [],
   "source": []
  },
  {
   "cell_type": "code",
   "execution_count": null,
   "metadata": {},
   "outputs": [],
   "source": []
  },
  {
   "cell_type": "code",
   "execution_count": null,
   "metadata": {},
   "outputs": [],
   "source": []
  },
  {
   "cell_type": "code",
   "execution_count": null,
   "metadata": {},
   "outputs": [],
   "source": []
  },
  {
   "cell_type": "code",
   "execution_count": null,
   "metadata": {},
   "outputs": [],
   "source": []
  },
  {
   "cell_type": "code",
   "execution_count": null,
   "metadata": {},
   "outputs": [],
   "source": []
  },
  {
   "cell_type": "code",
   "execution_count": null,
   "metadata": {},
   "outputs": [],
   "source": []
  },
  {
   "cell_type": "code",
   "execution_count": null,
   "metadata": {},
   "outputs": [],
   "source": []
  },
  {
   "cell_type": "code",
   "execution_count": null,
   "metadata": {},
   "outputs": [],
   "source": []
  },
  {
   "cell_type": "code",
   "execution_count": null,
   "metadata": {},
   "outputs": [],
   "source": []
  },
  {
   "cell_type": "code",
   "execution_count": null,
   "metadata": {},
   "outputs": [],
   "source": []
  },
  {
   "cell_type": "code",
   "execution_count": null,
   "metadata": {},
   "outputs": [],
   "source": []
  },
  {
   "cell_type": "code",
   "execution_count": null,
   "metadata": {},
   "outputs": [],
   "source": []
  },
  {
   "cell_type": "code",
   "execution_count": null,
   "metadata": {},
   "outputs": [],
   "source": []
  },
  {
   "cell_type": "code",
   "execution_count": null,
   "metadata": {},
   "outputs": [],
   "source": []
  },
  {
   "cell_type": "code",
   "execution_count": null,
   "metadata": {},
   "outputs": [],
   "source": []
  },
  {
   "cell_type": "code",
   "execution_count": null,
   "metadata": {},
   "outputs": [],
   "source": []
  },
  {
   "cell_type": "code",
   "execution_count": null,
   "metadata": {},
   "outputs": [],
   "source": []
  },
  {
   "cell_type": "code",
   "execution_count": null,
   "metadata": {},
   "outputs": [],
   "source": []
  }
 ],
 "metadata": {
  "kernelspec": {
   "display_name": "Python 3",
   "language": "python",
   "name": "python3"
  },
  "language_info": {
   "codemirror_mode": {
    "name": "ipython",
    "version": 3
   },
   "file_extension": ".py",
   "mimetype": "text/x-python",
   "name": "python",
   "nbconvert_exporter": "python",
   "pygments_lexer": "ipython3",
   "version": "3.11.5"
  },
  "orig_nbformat": 4
 },
 "nbformat": 4,
 "nbformat_minor": 2
}
